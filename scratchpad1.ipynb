{
 "cells": [
  {
   "cell_type": "code",
   "execution_count": 1,
   "metadata": {},
   "outputs": [
    {
     "data": {
      "text/plain": [
       "(77414, 63)"
      ]
     },
     "execution_count": 1,
     "metadata": {},
     "output_type": "execute_result"
    }
   ],
   "source": [
    "import acquire, wrangle_zillow\n",
    "import numpy as np\n",
    "import pandas as pd\n",
    "import matplotlib.pyplot as plt\n",
    "import seaborn as sns\n",
    "import sklearn.preprocessing\n",
    "from sklearn.model_selection import train_test_split\n",
    "from sklearn.cluster import KMeans\n",
    "from sklearn.preprocessing import MinMaxScaler\n",
    "\n",
    "\n",
    "\n",
    "df = wrangle_zillow.zillow_datac()\n",
    "df.shape"
   ]
  },
  {
   "cell_type": "code",
   "execution_count": 2,
   "metadata": {},
   "outputs": [],
   "source": [
    "df = wrangle_zillow.get_counties(df)"
   ]
  },
  {
   "cell_type": "code",
   "execution_count": 3,
   "metadata": {},
   "outputs": [
    {
     "data": {
      "text/plain": [
       "(77414, 26)"
      ]
     },
     "execution_count": 3,
     "metadata": {},
     "output_type": "execute_result"
    }
   ],
   "source": [
    "df = df.drop(columns=['parcelid','typeconstructiontypeid','storytypeid','propertylandusetypeid',\n",
    "                      'heatingorsystemtypeid','buildingclasstypeid','architecturalstyletypeid',\n",
    "                      'airconditioningtypeid','id','basementsqft','buildingqualitytypeid','decktypeid',\n",
    "                      'finishedfloor1squarefeet','finishedsquarefeet12','finishedsquarefeet13',\n",
    "                      'finishedsquarefeet50','finishedsquarefeet15','finishedsquarefeet6','fireplacecnt',\n",
    "                      'garagetotalsqft','poolsizesum','pooltypeid10','pooltypeid2','pooltypeid7',\n",
    "                      'propertycountylandusecode','propertyzoningdesc','rawcensustractandblock',\n",
    "                      'regionidcounty','regionidneighborhood','threequarterbathnbr','unitcnt',\n",
    "                      'yardbuildingsqft17','yardbuildingsqft26','fireplaceflag',\n",
    "                      'assessmentyear','taxdelinquencyflag','taxdelinquencyyear','id',])\n",
    "df\n",
    "df.shape"
   ]
  },
  {
   "cell_type": "code",
   "execution_count": 4,
   "metadata": {},
   "outputs": [
    {
     "data": {
      "text/plain": [
       "bathroomcnt                         0\n",
       "bedroomcnt                          0\n",
       "calculatedbathnbr                3212\n",
       "calculatedfinishedsquarefeet     1108\n",
       "fullbathcnt                      3212\n",
       "garagecarcnt                    54161\n",
       "hashottuborspa                  76157\n",
       "latitude                            0\n",
       "longitude                           0\n",
       "lotsizesquarefeet                7060\n",
       "poolcnt                         63196\n",
       "regionidcity                     1519\n",
       "regionidzip                       273\n",
       "roomcnt                             1\n",
       "yearbuilt                        1166\n",
       "numberofstories                 59340\n",
       "structuretaxvaluedollarcnt       1264\n",
       "taxvaluedollarcnt                 924\n",
       "landtaxvaluedollarcnt            1606\n",
       "taxamount                         509\n",
       "censustractandblock              2090\n",
       "logerror                            0\n",
       "transactiondate                     0\n",
       "LA                                  0\n",
       "Orange                              0\n",
       "Ventura                             0\n",
       "dtype: int64"
      ]
     },
     "execution_count": 4,
     "metadata": {},
     "output_type": "execute_result"
    }
   ],
   "source": [
    "df.isnull().sum()"
   ]
  },
  {
   "cell_type": "code",
   "execution_count": 5,
   "metadata": {},
   "outputs": [],
   "source": [
    "df = wrangle_zillow.create_features(df)"
   ]
  },
  {
   "cell_type": "code",
   "execution_count": 6,
   "metadata": {},
   "outputs": [],
   "source": [
    "# dropping more columns\n",
    "df = df.drop(columns=['calculatedbathnbr','fullbathcnt','garagecarcnt','hashottuborspa','regionidcity',\n",
    "                 'regionidzip','numberofstories','censustractandblock','cola','transactiondate'])"
   ]
  },
  {
   "cell_type": "code",
   "execution_count": 7,
   "metadata": {},
   "outputs": [
    {
     "data": {
      "text/html": [
       "<div>\n",
       "<style scoped>\n",
       "    .dataframe tbody tr th:only-of-type {\n",
       "        vertical-align: middle;\n",
       "    }\n",
       "\n",
       "    .dataframe tbody tr th {\n",
       "        vertical-align: top;\n",
       "    }\n",
       "\n",
       "    .dataframe thead th {\n",
       "        text-align: right;\n",
       "    }\n",
       "</style>\n",
       "<table border=\"1\" class=\"dataframe\">\n",
       "  <thead>\n",
       "    <tr style=\"text-align: right;\">\n",
       "      <th></th>\n",
       "      <th>bathroomcnt</th>\n",
       "      <th>bedroomcnt</th>\n",
       "      <th>calculatedfinishedsquarefeet</th>\n",
       "      <th>latitude</th>\n",
       "      <th>longitude</th>\n",
       "      <th>lotsizesquarefeet</th>\n",
       "      <th>poolcnt</th>\n",
       "      <th>roomcnt</th>\n",
       "      <th>yearbuilt</th>\n",
       "      <th>structuretaxvaluedollarcnt</th>\n",
       "      <th>...</th>\n",
       "      <th>logerror</th>\n",
       "      <th>LA</th>\n",
       "      <th>Orange</th>\n",
       "      <th>Ventura</th>\n",
       "      <th>age</th>\n",
       "      <th>taxrate</th>\n",
       "      <th>acres</th>\n",
       "      <th>structure_dollar_per_sqft</th>\n",
       "      <th>land_dollar_per_sqft</th>\n",
       "      <th>bed_bath_ratio</th>\n",
       "    </tr>\n",
       "  </thead>\n",
       "  <tbody>\n",
       "    <tr>\n",
       "      <th>20</th>\n",
       "      <td>2.0</td>\n",
       "      <td>4.0</td>\n",
       "      <td>3633.0</td>\n",
       "      <td>34560018.0</td>\n",
       "      <td>-118169806.0</td>\n",
       "      <td>9826.0</td>\n",
       "      <td>NaN</td>\n",
       "      <td>0.0</td>\n",
       "      <td>2005.0</td>\n",
       "      <td>222321.0</td>\n",
       "      <td>...</td>\n",
       "      <td>0.042463</td>\n",
       "      <td>1</td>\n",
       "      <td>0</td>\n",
       "      <td>0</td>\n",
       "      <td>12.0</td>\n",
       "      <td>0.023417</td>\n",
       "      <td>0.225574</td>\n",
       "      <td>61.194880</td>\n",
       "      <td>7.541624</td>\n",
       "      <td>2.000000</td>\n",
       "    </tr>\n",
       "    <tr>\n",
       "      <th>28</th>\n",
       "      <td>4.0</td>\n",
       "      <td>5.0</td>\n",
       "      <td>2865.0</td>\n",
       "      <td>33879216.0</td>\n",
       "      <td>-118361434.0</td>\n",
       "      <td>4990.0</td>\n",
       "      <td>NaN</td>\n",
       "      <td>0.0</td>\n",
       "      <td>1972.0</td>\n",
       "      <td>271704.0</td>\n",
       "      <td>...</td>\n",
       "      <td>0.206470</td>\n",
       "      <td>1</td>\n",
       "      <td>0</td>\n",
       "      <td>0</td>\n",
       "      <td>45.0</td>\n",
       "      <td>0.012578</td>\n",
       "      <td>0.114555</td>\n",
       "      <td>94.835602</td>\n",
       "      <td>112.128257</td>\n",
       "      <td>1.250000</td>\n",
       "    </tr>\n",
       "    <tr>\n",
       "      <th>30</th>\n",
       "      <td>2.0</td>\n",
       "      <td>2.0</td>\n",
       "      <td>1090.0</td>\n",
       "      <td>33974100.0</td>\n",
       "      <td>-118423000.0</td>\n",
       "      <td>40247.0</td>\n",
       "      <td>NaN</td>\n",
       "      <td>0.0</td>\n",
       "      <td>2004.0</td>\n",
       "      <td>232897.0</td>\n",
       "      <td>...</td>\n",
       "      <td>0.021853</td>\n",
       "      <td>1</td>\n",
       "      <td>0</td>\n",
       "      <td>0</td>\n",
       "      <td>13.0</td>\n",
       "      <td>0.017242</td>\n",
       "      <td>0.923944</td>\n",
       "      <td>213.666972</td>\n",
       "      <td>3.097647</td>\n",
       "      <td>1.000000</td>\n",
       "    </tr>\n",
       "    <tr>\n",
       "      <th>33</th>\n",
       "      <td>2.0</td>\n",
       "      <td>3.0</td>\n",
       "      <td>2077.0</td>\n",
       "      <td>34012977.0</td>\n",
       "      <td>-118479243.0</td>\n",
       "      <td>6490.0</td>\n",
       "      <td>NaN</td>\n",
       "      <td>0.0</td>\n",
       "      <td>1926.0</td>\n",
       "      <td>210192.0</td>\n",
       "      <td>...</td>\n",
       "      <td>-0.040807</td>\n",
       "      <td>1</td>\n",
       "      <td>0</td>\n",
       "      <td>0</td>\n",
       "      <td>91.0</td>\n",
       "      <td>0.012253</td>\n",
       "      <td>0.148990</td>\n",
       "      <td>101.199807</td>\n",
       "      <td>67.267797</td>\n",
       "      <td>1.500000</td>\n",
       "    </tr>\n",
       "    <tr>\n",
       "      <th>34</th>\n",
       "      <td>3.0</td>\n",
       "      <td>3.0</td>\n",
       "      <td>2019.0</td>\n",
       "      <td>34003621.0</td>\n",
       "      <td>-118477513.0</td>\n",
       "      <td>6763.0</td>\n",
       "      <td>NaN</td>\n",
       "      <td>0.0</td>\n",
       "      <td>NaN</td>\n",
       "      <td>451786.0</td>\n",
       "      <td>...</td>\n",
       "      <td>-0.018862</td>\n",
       "      <td>1</td>\n",
       "      <td>0</td>\n",
       "      <td>0</td>\n",
       "      <td>NaN</td>\n",
       "      <td>0.011900</td>\n",
       "      <td>0.155257</td>\n",
       "      <td>223.767211</td>\n",
       "      <td>144.864114</td>\n",
       "      <td>1.000000</td>\n",
       "    </tr>\n",
       "    <tr>\n",
       "      <th>...</th>\n",
       "      <td>...</td>\n",
       "      <td>...</td>\n",
       "      <td>...</td>\n",
       "      <td>...</td>\n",
       "      <td>...</td>\n",
       "      <td>...</td>\n",
       "      <td>...</td>\n",
       "      <td>...</td>\n",
       "      <td>...</td>\n",
       "      <td>...</td>\n",
       "      <td>...</td>\n",
       "      <td>...</td>\n",
       "      <td>...</td>\n",
       "      <td>...</td>\n",
       "      <td>...</td>\n",
       "      <td>...</td>\n",
       "      <td>...</td>\n",
       "      <td>...</td>\n",
       "      <td>...</td>\n",
       "      <td>...</td>\n",
       "      <td>...</td>\n",
       "    </tr>\n",
       "    <tr>\n",
       "      <th>77409</th>\n",
       "      <td>3.0</td>\n",
       "      <td>4.0</td>\n",
       "      <td>1921.0</td>\n",
       "      <td>34572256.0</td>\n",
       "      <td>-118024872.0</td>\n",
       "      <td>6763.0</td>\n",
       "      <td>NaN</td>\n",
       "      <td>0.0</td>\n",
       "      <td>1990.0</td>\n",
       "      <td>129566.0</td>\n",
       "      <td>...</td>\n",
       "      <td>0.020615</td>\n",
       "      <td>1</td>\n",
       "      <td>0</td>\n",
       "      <td>0</td>\n",
       "      <td>27.0</td>\n",
       "      <td>0.017654</td>\n",
       "      <td>0.155257</td>\n",
       "      <td>67.447163</td>\n",
       "      <td>4.798610</td>\n",
       "      <td>1.333333</td>\n",
       "    </tr>\n",
       "    <tr>\n",
       "      <th>77410</th>\n",
       "      <td>3.0</td>\n",
       "      <td>4.0</td>\n",
       "      <td>1780.0</td>\n",
       "      <td>34571498.0</td>\n",
       "      <td>-118039412.0</td>\n",
       "      <td>6822.0</td>\n",
       "      <td>NaN</td>\n",
       "      <td>0.0</td>\n",
       "      <td>1989.0</td>\n",
       "      <td>100744.0</td>\n",
       "      <td>...</td>\n",
       "      <td>0.013209</td>\n",
       "      <td>1</td>\n",
       "      <td>0</td>\n",
       "      <td>0</td>\n",
       "      <td>28.0</td>\n",
       "      <td>0.019014</td>\n",
       "      <td>0.156612</td>\n",
       "      <td>56.597753</td>\n",
       "      <td>3.690853</td>\n",
       "      <td>1.333333</td>\n",
       "    </tr>\n",
       "    <tr>\n",
       "      <th>77411</th>\n",
       "      <td>2.0</td>\n",
       "      <td>3.0</td>\n",
       "      <td>1549.0</td>\n",
       "      <td>34575327.0</td>\n",
       "      <td>-118054267.0</td>\n",
       "      <td>6987.0</td>\n",
       "      <td>NaN</td>\n",
       "      <td>0.0</td>\n",
       "      <td>1990.0</td>\n",
       "      <td>149241.0</td>\n",
       "      <td>...</td>\n",
       "      <td>0.037129</td>\n",
       "      <td>1</td>\n",
       "      <td>0</td>\n",
       "      <td>0</td>\n",
       "      <td>27.0</td>\n",
       "      <td>0.016744</td>\n",
       "      <td>0.160399</td>\n",
       "      <td>96.346675</td>\n",
       "      <td>7.119937</td>\n",
       "      <td>1.500000</td>\n",
       "    </tr>\n",
       "    <tr>\n",
       "      <th>77412</th>\n",
       "      <td>3.0</td>\n",
       "      <td>3.0</td>\n",
       "      <td>1339.0</td>\n",
       "      <td>34572200.0</td>\n",
       "      <td>-118053000.0</td>\n",
       "      <td>271458.0</td>\n",
       "      <td>NaN</td>\n",
       "      <td>0.0</td>\n",
       "      <td>1990.0</td>\n",
       "      <td>118900.0</td>\n",
       "      <td>...</td>\n",
       "      <td>0.007204</td>\n",
       "      <td>1</td>\n",
       "      <td>0</td>\n",
       "      <td>0</td>\n",
       "      <td>27.0</td>\n",
       "      <td>0.016895</td>\n",
       "      <td>6.231818</td>\n",
       "      <td>88.797610</td>\n",
       "      <td>0.109409</td>\n",
       "      <td>1.000000</td>\n",
       "    </tr>\n",
       "    <tr>\n",
       "      <th>77413</th>\n",
       "      <td>3.0</td>\n",
       "      <td>4.0</td>\n",
       "      <td>2059.0</td>\n",
       "      <td>34561927.0</td>\n",
       "      <td>-118052811.0</td>\n",
       "      <td>7021.0</td>\n",
       "      <td>NaN</td>\n",
       "      <td>0.0</td>\n",
       "      <td>1990.0</td>\n",
       "      <td>104239.0</td>\n",
       "      <td>...</td>\n",
       "      <td>-0.197755</td>\n",
       "      <td>1</td>\n",
       "      <td>0</td>\n",
       "      <td>0</td>\n",
       "      <td>27.0</td>\n",
       "      <td>0.018960</td>\n",
       "      <td>0.161180</td>\n",
       "      <td>50.626032</td>\n",
       "      <td>3.711295</td>\n",
       "      <td>1.333333</td>\n",
       "    </tr>\n",
       "  </tbody>\n",
       "</table>\n",
       "<p>67481 rows × 23 columns</p>\n",
       "</div>"
      ],
      "text/plain": [
       "       bathroomcnt  bedroomcnt  calculatedfinishedsquarefeet    latitude  \\\n",
       "20             2.0         4.0                        3633.0  34560018.0   \n",
       "28             4.0         5.0                        2865.0  33879216.0   \n",
       "30             2.0         2.0                        1090.0  33974100.0   \n",
       "33             2.0         3.0                        2077.0  34012977.0   \n",
       "34             3.0         3.0                        2019.0  34003621.0   \n",
       "...            ...         ...                           ...         ...   \n",
       "77409          3.0         4.0                        1921.0  34572256.0   \n",
       "77410          3.0         4.0                        1780.0  34571498.0   \n",
       "77411          2.0         3.0                        1549.0  34575327.0   \n",
       "77412          3.0         3.0                        1339.0  34572200.0   \n",
       "77413          3.0         4.0                        2059.0  34561927.0   \n",
       "\n",
       "         longitude  lotsizesquarefeet  poolcnt  roomcnt  yearbuilt  \\\n",
       "20    -118169806.0             9826.0      NaN      0.0     2005.0   \n",
       "28    -118361434.0             4990.0      NaN      0.0     1972.0   \n",
       "30    -118423000.0            40247.0      NaN      0.0     2004.0   \n",
       "33    -118479243.0             6490.0      NaN      0.0     1926.0   \n",
       "34    -118477513.0             6763.0      NaN      0.0        NaN   \n",
       "...            ...                ...      ...      ...        ...   \n",
       "77409 -118024872.0             6763.0      NaN      0.0     1990.0   \n",
       "77410 -118039412.0             6822.0      NaN      0.0     1989.0   \n",
       "77411 -118054267.0             6987.0      NaN      0.0     1990.0   \n",
       "77412 -118053000.0           271458.0      NaN      0.0     1990.0   \n",
       "77413 -118052811.0             7021.0      NaN      0.0     1990.0   \n",
       "\n",
       "       structuretaxvaluedollarcnt  ...  logerror  LA  Orange  Ventura   age  \\\n",
       "20                       222321.0  ...  0.042463   1       0        0  12.0   \n",
       "28                       271704.0  ...  0.206470   1       0        0  45.0   \n",
       "30                       232897.0  ...  0.021853   1       0        0  13.0   \n",
       "33                       210192.0  ... -0.040807   1       0        0  91.0   \n",
       "34                       451786.0  ... -0.018862   1       0        0   NaN   \n",
       "...                           ...  ...       ...  ..     ...      ...   ...   \n",
       "77409                    129566.0  ...  0.020615   1       0        0  27.0   \n",
       "77410                    100744.0  ...  0.013209   1       0        0  28.0   \n",
       "77411                    149241.0  ...  0.037129   1       0        0  27.0   \n",
       "77412                    118900.0  ...  0.007204   1       0        0  27.0   \n",
       "77413                    104239.0  ... -0.197755   1       0        0  27.0   \n",
       "\n",
       "        taxrate     acres  structure_dollar_per_sqft  land_dollar_per_sqft  \\\n",
       "20     0.023417  0.225574                  61.194880              7.541624   \n",
       "28     0.012578  0.114555                  94.835602            112.128257   \n",
       "30     0.017242  0.923944                 213.666972              3.097647   \n",
       "33     0.012253  0.148990                 101.199807             67.267797   \n",
       "34     0.011900  0.155257                 223.767211            144.864114   \n",
       "...         ...       ...                        ...                   ...   \n",
       "77409  0.017654  0.155257                  67.447163              4.798610   \n",
       "77410  0.019014  0.156612                  56.597753              3.690853   \n",
       "77411  0.016744  0.160399                  96.346675              7.119937   \n",
       "77412  0.016895  6.231818                  88.797610              0.109409   \n",
       "77413  0.018960  0.161180                  50.626032              3.711295   \n",
       "\n",
       "       bed_bath_ratio  \n",
       "20           2.000000  \n",
       "28           1.250000  \n",
       "30           1.000000  \n",
       "33           1.500000  \n",
       "34           1.000000  \n",
       "...               ...  \n",
       "77409        1.333333  \n",
       "77410        1.333333  \n",
       "77411        1.500000  \n",
       "77412        1.000000  \n",
       "77413        1.333333  \n",
       "\n",
       "[67481 rows x 23 columns]"
      ]
     },
     "execution_count": 7,
     "metadata": {},
     "output_type": "execute_result"
    }
   ],
   "source": [
    "df = wrangle_zillow.remove_outliers(df)\n",
    "df"
   ]
  },
  {
   "cell_type": "code",
   "execution_count": 8,
   "metadata": {},
   "outputs": [
    {
     "data": {
      "text/plain": [
       "(67481, 22)"
      ]
     },
     "execution_count": 8,
     "metadata": {},
     "output_type": "execute_result"
    }
   ],
   "source": [
    "#going to drop the rest of the nulls\n",
    "df = df.drop(columns=['poolcnt'])\n",
    "df.shape"
   ]
  },
  {
   "cell_type": "code",
   "execution_count": 9,
   "metadata": {},
   "outputs": [
    {
     "data": {
      "text/plain": [
       "(67395, 22)"
      ]
     },
     "execution_count": 9,
     "metadata": {},
     "output_type": "execute_result"
    }
   ],
   "source": [
    "df.dropna(inplace=True)\n",
    "df.shape"
   ]
  },
  {
   "cell_type": "code",
   "execution_count": 10,
   "metadata": {},
   "outputs": [
    {
     "data": {
      "text/plain": [
       "bathroomcnt                     0\n",
       "bedroomcnt                      0\n",
       "calculatedfinishedsquarefeet    0\n",
       "latitude                        0\n",
       "longitude                       0\n",
       "lotsizesquarefeet               0\n",
       "roomcnt                         0\n",
       "yearbuilt                       0\n",
       "structuretaxvaluedollarcnt      0\n",
       "taxvaluedollarcnt               0\n",
       "landtaxvaluedollarcnt           0\n",
       "taxamount                       0\n",
       "logerror                        0\n",
       "LA                              0\n",
       "Orange                          0\n",
       "Ventura                         0\n",
       "age                             0\n",
       "taxrate                         0\n",
       "acres                           0\n",
       "structure_dollar_per_sqft       0\n",
       "land_dollar_per_sqft            0\n",
       "bed_bath_ratio                  0\n",
       "dtype: int64"
      ]
     },
     "execution_count": 10,
     "metadata": {},
     "output_type": "execute_result"
    }
   ],
   "source": [
    "#making sure we dont have any nulls\n",
    "df.isnull().sum()"
   ]
  },
  {
   "cell_type": "code",
   "execution_count": 11,
   "metadata": {},
   "outputs": [],
   "source": [
    "def split_scale(df):\n",
    "    train_validate, test = train_test_split(df, test_size = .2, random_state = 123)\n",
    "    train, validate = train_test_split(train_validate, test_size = .3, random_state = 123)\n",
    "    \n",
    "    X_train = train.drop(columns=['logerror'])\n",
    "    X_validate = validate.drop(columns=['logerror'])\n",
    "    X_test = test.drop(columns=['logerror'])\n",
    "\n",
    "    y_train = train[['logerror']]\n",
    "    y_validate = validate[['logerror']]\n",
    "    y_test = test[['logerror']]\n",
    "    \n",
    "    \n",
    "#def minmax_scaler(df)\n",
    "    # create the scaler object and fit to X_train (get the min and max from X_train for each column)\n",
    "    scaler = MinMaxScaler(copy=True, feature_range=(0,1)).fit(X_train)\n",
    "\n",
    "    # transform X_train values to their scaled equivalent and create df of the scaled features\n",
    "    X_train_scaled = pd.DataFrame(scaler.transform(X_train), \n",
    "                                  columns=X_train.columns.values).set_index([X_train.index.values])\n",
    "    \n",
    "    # transform X_validate values to their scaled equivalent and create df of the scaled features\n",
    "    X_validate_scaled = pd.DataFrame(scaler.transform(X_validate),\n",
    "                                    columns=X_validate.columns.values).set_index([X_validate.index.values])\n",
    "\n",
    "    # transform X_test values to their scaled equivalent and create df of the scaled features   \n",
    "    X_test_scaled = pd.DataFrame(scaler.transform(X_test), \n",
    "                                 columns=X_test.columns.values).set_index([X_test.index.values])\n",
    "\n",
    "    \n",
    "    return X_train, X_validate, X_test, y_train, y_validate, y_test, X_train_scaled, X_validate_scaled, X_test_scaled"
   ]
  },
  {
   "cell_type": "code",
   "execution_count": 12,
   "metadata": {},
   "outputs": [],
   "source": [
    " X_train, X_validate, X_test, y_train, y_validate, y_test, X_train_scaled, X_validate_scaled, X_test_scaled = split_scale(df)"
   ]
  },
  {
   "cell_type": "markdown",
   "metadata": {},
   "source": [
    "# Time to Explore"
   ]
  },
  {
   "cell_type": "code",
   "execution_count": 13,
   "metadata": {},
   "outputs": [
    {
     "name": "stdout",
     "output_type": "stream",
     "text": [
      "     k         sse\n",
      "0    2  636.301953\n",
      "1    3  436.265587\n",
      "2    4  341.045218\n",
      "3    5  272.903304\n",
      "4    6  237.231831\n",
      "5    7  210.934932\n",
      "6    8  187.449933\n",
      "7    9  172.037117\n",
      "8   10  157.221517\n",
      "9   11  146.018823\n",
      "10  12  136.173920\n",
      "11  13  129.049509\n",
      "12  14  122.655636\n",
      "13  15  116.087409\n",
      "14  16  108.953777\n",
      "15  17  104.204695\n",
      "16  18   98.467537\n",
      "17  19   94.629044\n"
     ]
    },
    {
     "data": {
      "image/png": "[encoded data removed]",
      "text/plain": [
       "<Figure size 432x288 with 1 Axes>"
      ]
     },
     "metadata": {
      "needs_background": "light"
     },
     "output_type": "display_data"
    }
   ],
   "source": [
    "area_vars = ['bed_bath_ratio','structure_dollar_per_sqft','age']\n",
    "wrangle_zillow.elbow_plot(X_train_scaled, cluster_vars=area_vars)"
   ]
  },
  {
   "cell_type": "code",
   "execution_count": 14,
   "metadata": {},
   "outputs": [],
   "source": [
    "def run_kmeans(X_train,X_train_scaled,k, cluster_vars, cluster_col_name):\n",
    "    # create kmeans object\n",
    "    kmeans = KMeans(n_clusters = k, random_state = 13)\n",
    "    kmeans.fit(X_train_scaled[cluster_vars])\n",
    "    # predict and create a dataframe with cluster per observation\n",
    "    train_clusters = \\\n",
    "        pd.DataFrame(kmeans.predict(X_train_scaled[cluster_vars]),\n",
    "                              columns=[cluster_col_name],\n",
    "                              index=X_train.index)\n",
    "    \n",
    "    return train_clusters, kmeans\n",
    "   \n",
    "\n",
    "train_clusters, kmeans = run_kmeans(X_train,X_train_scaled,k=5, cluster_vars=area_vars, cluster_col_name='bedbathsqft')"
   ]
  },
  {
   "cell_type": "code",
   "execution_count": 15,
   "metadata": {},
   "outputs": [],
   "source": [
    "def kmeans_transform(X_scaled, kmeans, cluster_vars, cluster_col_name):\n",
    "    kmeans.transform(X_scaled[cluster_vars])\n",
    "    trans_clusters = \\\n",
    "        pd.DataFrame(kmeans.predict(X_scaled[cluster_vars]),\n",
    "                              columns=[cluster_col_name],\n",
    "                              index=X_scaled.index)\n",
    "    \n",
    "    return trans_clusters"
   ]
  },
  {
   "cell_type": "code",
   "execution_count": 16,
   "metadata": {},
   "outputs": [],
   "source": [
    "validate_clusters = kmeans_transform(X_validate_scaled, kmeans, cluster_vars=area_vars, cluster_col_name='bedbathsqft')\n",
    "\n",
    "test_clusters = kmeans_transform(X_test_scaled, kmeans, cluster_vars=area_vars, cluster_col_name='bedbathsqft')"
   ]
  },
  {
   "cell_type": "code",
   "execution_count": 17,
   "metadata": {},
   "outputs": [],
   "source": [
    "#centroid_col_names = ['centroid_' + i for i in area_vars]\n",
    "#centroid_col_names\n",
    "\n",
    "#centroids = pd.DataFrame(kmeans.cluster_centers_, \n",
    "             #columns=centroid_col_names).reset_index().rename(columns={'index': 'bedbathsqft'})\n",
    "\n",
    "def get_centroids(cluster_vars, cluster_col_name, kmeans):\n",
    "    centroid_col_names = ['centroid_' + i for i in cluster_vars]\n",
    "\n",
    "    centroids = pd.DataFrame(kmeans.cluster_centers_, \n",
    "             columns=centroid_col_names).reset_index().rename(columns={'index': cluster_col_name})\n",
    "    \n",
    "    return centroids"
   ]
  },
  {
   "cell_type": "code",
   "execution_count": 18,
   "metadata": {},
   "outputs": [
    {
     "data": {
      "text/html": [
       "<div>\n",
       "<style scoped>\n",
       "    .dataframe tbody tr th:only-of-type {\n",
       "        vertical-align: middle;\n",
       "    }\n",
       "\n",
       "    .dataframe tbody tr th {\n",
       "        vertical-align: top;\n",
       "    }\n",
       "\n",
       "    .dataframe thead th {\n",
       "        text-align: right;\n",
       "    }\n",
       "</style>\n",
       "<table border=\"1\" class=\"dataframe\">\n",
       "  <thead>\n",
       "    <tr style=\"text-align: right;\">\n",
       "      <th></th>\n",
       "      <th>bedbathsqft</th>\n",
       "      <th>centroid_bed_bath_ratio</th>\n",
       "      <th>centroid_structure_dollar_per_sqft</th>\n",
       "      <th>centroid_age</th>\n",
       "    </tr>\n",
       "  </thead>\n",
       "  <tbody>\n",
       "    <tr>\n",
       "      <th>0</th>\n",
       "      <td>0</td>\n",
       "      <td>0.408605</td>\n",
       "      <td>0.047741</td>\n",
       "      <td>0.510484</td>\n",
       "    </tr>\n",
       "    <tr>\n",
       "      <th>1</th>\n",
       "      <td>1</td>\n",
       "      <td>0.168273</td>\n",
       "      <td>0.065263</td>\n",
       "      <td>0.317045</td>\n",
       "    </tr>\n",
       "    <tr>\n",
       "      <th>2</th>\n",
       "      <td>2</td>\n",
       "      <td>0.208179</td>\n",
       "      <td>0.052374</td>\n",
       "      <td>0.674722</td>\n",
       "    </tr>\n",
       "    <tr>\n",
       "      <th>3</th>\n",
       "      <td>3</td>\n",
       "      <td>0.137819</td>\n",
       "      <td>0.088882</td>\n",
       "      <td>0.158499</td>\n",
       "    </tr>\n",
       "    <tr>\n",
       "      <th>4</th>\n",
       "      <td>4</td>\n",
       "      <td>0.197199</td>\n",
       "      <td>0.053960</td>\n",
       "      <td>0.461525</td>\n",
       "    </tr>\n",
       "  </tbody>\n",
       "</table>\n",
       "</div>"
      ],
      "text/plain": [
       "   bedbathsqft  centroid_bed_bath_ratio  centroid_structure_dollar_per_sqft  \\\n",
       "0            0                 0.408605                            0.047741   \n",
       "1            1                 0.168273                            0.065263   \n",
       "2            2                 0.208179                            0.052374   \n",
       "3            3                 0.137819                            0.088882   \n",
       "4            4                 0.197199                            0.053960   \n",
       "\n",
       "   centroid_age  \n",
       "0      0.510484  \n",
       "1      0.317045  \n",
       "2      0.674722  \n",
       "3      0.158499  \n",
       "4      0.461525  "
      ]
     },
     "execution_count": 18,
     "metadata": {},
     "output_type": "execute_result"
    }
   ],
   "source": [
    "centroids = get_centroids(cluster_vars=area_vars,cluster_col_name='bedbathsqft',kmeans=kmeans)\n",
    "centroids"
   ]
  },
  {
   "cell_type": "code",
   "execution_count": 19,
   "metadata": {},
   "outputs": [],
   "source": [
    "X_train, X_train_scaled = wrangle_zillow.add_to_train(train_clusters, centroids, X_train, X_train_scaled, cluster_col_name = 'bedbathsqft')"
   ]
  },
  {
   "cell_type": "code",
   "execution_count": 20,
   "metadata": {},
   "outputs": [],
   "source": [
    "X_validate, X_validate_scaled = wrangle_zillow.add_to_train(validate_clusters, centroids, X_validate, X_validate_scaled, cluster_col_name = 'bedbathsqft')"
   ]
  },
  {
   "cell_type": "code",
   "execution_count": 21,
   "metadata": {
    "scrolled": true
   },
   "outputs": [],
   "source": [
    "X_test, X_test_scaled = wrangle_zillow.add_to_train(test_clusters, centroids, X_test, X_test_scaled, cluster_col_name = 'bedbathsqft')"
   ]
  },
  {
   "cell_type": "code",
   "execution_count": 30,
   "metadata": {},
   "outputs": [
    {
     "data": {
      "image/png": "[encoded data removed]",
      "text/plain": [
       "<Figure size 432x288 with 1 Axes>"
      ]
     },
     "metadata": {
      "needs_background": "light"
     },
     "output_type": "display_data"
    }
   ],
   "source": [
    "sns.scatterplot(x='bed_bath_ratio', y='structure_dollar_per_sqft', hue='age', data=X_train)\n",
    "plt.title(\"bed bath ratio and dollar per sqft\")\n",
    "plt.show()"
   ]
  },
  {
   "cell_type": "code",
   "execution_count": 36,
   "metadata": {},
   "outputs": [
    {
     "data": {
      "image/png": "[encoded data removed]",
      "text/plain": [
       "<Figure size 432x288 with 1 Axes>"
      ]
     },
     "metadata": {
      "needs_background": "light"
     },
     "output_type": "display_data"
    }
   ],
   "source": [
    "plt.scatter(X_train_scaled.bedbathsqft, y_train.logerror)\n",
    "plt.ylim(-1,1)\n",
    "plt.show()"
   ]
  },
  {
   "cell_type": "code",
   "execution_count": 24,
   "metadata": {},
   "outputs": [
    {
     "data": {
      "text/plain": [
       "['bathroomcnt',\n",
       " 'bedroomcnt',\n",
       " 'calculatedfinishedsquarefeet',\n",
       " 'latitude',\n",
       " 'longitude',\n",
       " 'lotsizesquarefeet',\n",
       " 'roomcnt',\n",
       " 'yearbuilt',\n",
       " 'structuretaxvaluedollarcnt',\n",
       " 'taxvaluedollarcnt',\n",
       " 'landtaxvaluedollarcnt',\n",
       " 'taxamount',\n",
       " 'LA',\n",
       " 'Orange',\n",
       " 'Ventura',\n",
       " 'age',\n",
       " 'taxrate',\n",
       " 'acres',\n",
       " 'structure_dollar_per_sqft',\n",
       " 'land_dollar_per_sqft',\n",
       " 'bed_bath_ratio',\n",
       " 'bedbathsqft',\n",
       " 'centroid_bed_bath_ratio',\n",
       " 'centroid_structure_dollar_per_sqft',\n",
       " 'centroid_age']"
      ]
     },
     "execution_count": 24,
     "metadata": {},
     "output_type": "execute_result"
    }
   ],
   "source": [
    "sns.boxplot(X_train_scaled.room_cluster, y_train.logerror)\n",
    "plt.ylim(-.05,.05)\n",
    "plt.show()"
   ]
  },
  {
   "cell_type": "code",
   "execution_count": 25,
   "metadata": {},
   "outputs": [
    {
     "data": {
      "text/plain": [
       "['bathroomcnt',\n",
       " 'bedroomcnt',\n",
       " 'calculatedfinishedsquarefeet',\n",
       " 'latitude',\n",
       " 'longitude',\n",
       " 'lotsizesquarefeet',\n",
       " 'roomcnt',\n",
       " 'yearbuilt',\n",
       " 'structuretaxvaluedollarcnt',\n",
       " 'taxvaluedollarcnt',\n",
       " 'landtaxvaluedollarcnt',\n",
       " 'taxamount',\n",
       " 'LA',\n",
       " 'Orange',\n",
       " 'Ventura',\n",
       " 'age',\n",
       " 'taxrate',\n",
       " 'acres',\n",
       " 'structure_dollar_per_sqft',\n",
       " 'land_dollar_per_sqft',\n",
       " 'bed_bath_ratio',\n",
       " 'bedbathsqft',\n",
       " 'centroid_bed_bath_ratio',\n",
       " 'centroid_structure_dollar_per_sqft',\n",
       " 'centroid_age']"
      ]
     },
     "execution_count": 25,
     "metadata": {},
     "output_type": "execute_result"
    }
   ],
   "source": [
    "X_test_scaled.columns.to_list()"
   ]
  },
  {
   "cell_type": "code",
   "execution_count": null,
   "metadata": {},
   "outputs": [],
   "source": []
  }
 ],
 "metadata": {
  "kernelspec": {
   "display_name": "Python 3",
   "language": "python",
   "name": "python3"
  },
  "language_info": {
   "codemirror_mode": {
    "name": "ipython",
    "version": 3
   },
   "file_extension": ".py",
   "mimetype": "text/x-python",
   "name": "python",
   "nbconvert_exporter": "python",
   "pygments_lexer": "ipython3",
   "version": "3.7.6"
  }
 },
 "nbformat": 4,
 "nbformat_minor": 4
}
