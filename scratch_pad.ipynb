{
 "cells": [
  {
   "cell_type": "code",
   "execution_count": 1,
   "metadata": {},
   "outputs": [
    {
     "data": {
      "text/plain": [
       "(77414, 63)"
      ]
     },
     "execution_count": 1,
     "metadata": {},
     "output_type": "execute_result"
    }
   ],
   "source": [
    "import acquire, wrangle_zillow\n",
    "import numpy as np\n",
    "import pandas as pd\n",
    "import matplotlib.pyplot as plt\n",
    "import seaborn as sns\n",
    "import sklearn.preprocessing\n",
    "from sklearn.model_selection import train_test_split\n",
    "from sklearn.cluster import KMeans\n",
    "from sklearn.preprocessing import MinMaxScaler\n",
    "\n",
    "\n",
    "\n",
    "df = wrangle_zillow.zillow_datac()\n",
    "df.shape"
   ]
  },
  {
   "cell_type": "code",
   "execution_count": 2,
   "metadata": {},
   "outputs": [],
   "source": [
    "#df.info()"
   ]
  },
  {
   "cell_type": "code",
   "execution_count": 3,
   "metadata": {},
   "outputs": [],
   "source": [
    "df = wrangle_zillow.get_counties(df)"
   ]
  },
  {
   "cell_type": "markdown",
   "metadata": {},
   "source": [
    "# Lets get rid of a few columns"
   ]
  },
  {
   "cell_type": "code",
   "execution_count": 4,
   "metadata": {},
   "outputs": [
    {
     "data": {
      "text/plain": [
       "(77414, 26)"
      ]
     },
     "execution_count": 4,
     "metadata": {},
     "output_type": "execute_result"
    }
   ],
   "source": [
    "df = df.drop(columns=['parcelid','typeconstructiontypeid','storytypeid','propertylandusetypeid',\n",
    "                      'heatingorsystemtypeid','buildingclasstypeid','architecturalstyletypeid',\n",
    "                      'airconditioningtypeid','id','basementsqft','buildingqualitytypeid','decktypeid',\n",
    "                      'finishedfloor1squarefeet','finishedsquarefeet12','finishedsquarefeet13',\n",
    "                      'finishedsquarefeet50','finishedsquarefeet15','finishedsquarefeet6','fireplacecnt',\n",
    "                      'garagetotalsqft','poolsizesum','pooltypeid10','pooltypeid2','pooltypeid7',\n",
    "                      'propertycountylandusecode','propertyzoningdesc','rawcensustractandblock',\n",
    "                      'regionidcounty','regionidneighborhood','threequarterbathnbr','unitcnt',\n",
    "                      'yardbuildingsqft17','yardbuildingsqft26','fireplaceflag',\n",
    "                      'assessmentyear','taxdelinquencyflag','taxdelinquencyyear','id',])\n",
    "df\n",
    "df.shape"
   ]
  },
  {
   "cell_type": "code",
   "execution_count": 5,
   "metadata": {},
   "outputs": [
    {
     "data": {
      "text/plain": [
       "(77414, 26)"
      ]
     },
     "execution_count": 5,
     "metadata": {},
     "output_type": "execute_result"
    }
   ],
   "source": [
    "#gets the fips info and returns the county names with new columns into the dataframe\n",
    "df.isnull().sum()\n",
    "df.shape"
   ]
  },
  {
   "cell_type": "code",
   "execution_count": 6,
   "metadata": {
    "scrolled": true
   },
   "outputs": [
    {
     "data": {
      "text/plain": [
       "(77414, 26)"
      ]
     },
     "execution_count": 6,
     "metadata": {},
     "output_type": "execute_result"
    }
   ],
   "source": [
    "wrangle_zillow.nulls_by_col(df)\n",
    "df.shape"
   ]
  },
  {
   "cell_type": "code",
   "execution_count": 7,
   "metadata": {},
   "outputs": [
    {
     "name": "stdout",
     "output_type": "stream",
     "text": [
      "<class 'pandas.core.frame.DataFrame'>\n",
      "RangeIndex: 77414 entries, 0 to 77413\n",
      "Data columns (total 33 columns):\n",
      " #   Column                        Non-Null Count  Dtype  \n",
      "---  ------                        --------------  -----  \n",
      " 0   bathroomcnt                   77414 non-null  float64\n",
      " 1   bedroomcnt                    77414 non-null  float64\n",
      " 2   calculatedbathnbr             74202 non-null  float64\n",
      " 3   calculatedfinishedsquarefeet  76306 non-null  float64\n",
      " 4   fullbathcnt                   74202 non-null  float64\n",
      " 5   garagecarcnt                  23253 non-null  float64\n",
      " 6   hashottuborspa                1257 non-null   float64\n",
      " 7   latitude                      77414 non-null  float64\n",
      " 8   longitude                     77414 non-null  float64\n",
      " 9   lotsizesquarefeet             70354 non-null  float64\n",
      " 10  poolcnt                       14218 non-null  float64\n",
      " 11  regionidcity                  75895 non-null  float64\n",
      " 12  regionidzip                   77141 non-null  float64\n",
      " 13  roomcnt                       77413 non-null  float64\n",
      " 14  yearbuilt                     76248 non-null  float64\n",
      " 15  numberofstories               18074 non-null  float64\n",
      " 16  structuretaxvaluedollarcnt    76150 non-null  float64\n",
      " 17  taxvaluedollarcnt             76490 non-null  float64\n",
      " 18  landtaxvaluedollarcnt         75808 non-null  float64\n",
      " 19  taxamount                     76905 non-null  float64\n",
      " 20  censustractandblock           75324 non-null  float64\n",
      " 21  logerror                      77414 non-null  float64\n",
      " 22  transactiondate               77414 non-null  object \n",
      " 23  LA                            77414 non-null  uint8  \n",
      " 24  Orange                        77414 non-null  uint8  \n",
      " 25  Ventura                       77414 non-null  uint8  \n",
      " 26  age                           76248 non-null  float64\n",
      " 27  taxrate                       76181 non-null  float64\n",
      " 28  acres                         70354 non-null  float64\n",
      " 29  structure_dollar_per_sqft     75318 non-null  float64\n",
      " 30  land_dollar_per_sqft          70343 non-null  float64\n",
      " 31  bed_bath_ratio                74257 non-null  float64\n",
      " 32  cola                          77414 non-null  int64  \n",
      "dtypes: float64(28), int64(1), object(1), uint8(3)\n",
      "memory usage: 17.9+ MB\n"
     ]
    }
   ],
   "source": [
    "# creating new features\n",
    "\n",
    "df = wrangle_zillow.create_features(df)\n",
    "df.info()"
   ]
  },
  {
   "cell_type": "code",
   "execution_count": 8,
   "metadata": {},
   "outputs": [],
   "source": [
    "# dropping more columns\n",
    "df = df.drop(columns=['calculatedbathnbr','fullbathcnt','garagecarcnt','hashottuborspa','regionidcity',\n",
    "                 'regionidzip','numberofstories','censustractandblock','cola','transactiondate'])\n"
   ]
  },
  {
   "cell_type": "code",
   "execution_count": 9,
   "metadata": {},
   "outputs": [
    {
     "data": {
      "text/plain": [
       "(77414, 23)"
      ]
     },
     "execution_count": 9,
     "metadata": {},
     "output_type": "execute_result"
    }
   ],
   "source": [
    "df.isnull().sum()\n",
    "df.shape"
   ]
  },
  {
   "cell_type": "code",
   "execution_count": 10,
   "metadata": {
    "scrolled": true
   },
   "outputs": [
    {
     "data": {
      "text/html": [
       "<div>\n",
       "<style scoped>\n",
       "    .dataframe tbody tr th:only-of-type {\n",
       "        vertical-align: middle;\n",
       "    }\n",
       "\n",
       "    .dataframe tbody tr th {\n",
       "        vertical-align: top;\n",
       "    }\n",
       "\n",
       "    .dataframe thead th {\n",
       "        text-align: right;\n",
       "    }\n",
       "</style>\n",
       "<table border=\"1\" class=\"dataframe\">\n",
       "  <thead>\n",
       "    <tr style=\"text-align: right;\">\n",
       "      <th></th>\n",
       "      <th>bathroomcnt</th>\n",
       "      <th>bedroomcnt</th>\n",
       "      <th>calculatedfinishedsquarefeet</th>\n",
       "      <th>latitude</th>\n",
       "      <th>longitude</th>\n",
       "      <th>lotsizesquarefeet</th>\n",
       "      <th>poolcnt</th>\n",
       "      <th>roomcnt</th>\n",
       "      <th>yearbuilt</th>\n",
       "      <th>structuretaxvaluedollarcnt</th>\n",
       "      <th>...</th>\n",
       "      <th>logerror</th>\n",
       "      <th>LA</th>\n",
       "      <th>Orange</th>\n",
       "      <th>Ventura</th>\n",
       "      <th>age</th>\n",
       "      <th>taxrate</th>\n",
       "      <th>acres</th>\n",
       "      <th>structure_dollar_per_sqft</th>\n",
       "      <th>land_dollar_per_sqft</th>\n",
       "      <th>bed_bath_ratio</th>\n",
       "    </tr>\n",
       "  </thead>\n",
       "  <tbody>\n",
       "    <tr>\n",
       "      <th>20</th>\n",
       "      <td>2.0</td>\n",
       "      <td>4.0</td>\n",
       "      <td>3633.0</td>\n",
       "      <td>34560018.0</td>\n",
       "      <td>-118169806.0</td>\n",
       "      <td>9826.0</td>\n",
       "      <td>NaN</td>\n",
       "      <td>0.0</td>\n",
       "      <td>2005.0</td>\n",
       "      <td>222321.0</td>\n",
       "      <td>...</td>\n",
       "      <td>0.042463</td>\n",
       "      <td>1</td>\n",
       "      <td>0</td>\n",
       "      <td>0</td>\n",
       "      <td>12.0</td>\n",
       "      <td>0.023417</td>\n",
       "      <td>0.225574</td>\n",
       "      <td>61.194880</td>\n",
       "      <td>7.541624</td>\n",
       "      <td>2.000000</td>\n",
       "    </tr>\n",
       "    <tr>\n",
       "      <th>28</th>\n",
       "      <td>4.0</td>\n",
       "      <td>5.0</td>\n",
       "      <td>2865.0</td>\n",
       "      <td>33879216.0</td>\n",
       "      <td>-118361434.0</td>\n",
       "      <td>4990.0</td>\n",
       "      <td>NaN</td>\n",
       "      <td>0.0</td>\n",
       "      <td>1972.0</td>\n",
       "      <td>271704.0</td>\n",
       "      <td>...</td>\n",
       "      <td>0.206470</td>\n",
       "      <td>1</td>\n",
       "      <td>0</td>\n",
       "      <td>0</td>\n",
       "      <td>45.0</td>\n",
       "      <td>0.012578</td>\n",
       "      <td>0.114555</td>\n",
       "      <td>94.835602</td>\n",
       "      <td>112.128257</td>\n",
       "      <td>1.250000</td>\n",
       "    </tr>\n",
       "    <tr>\n",
       "      <th>30</th>\n",
       "      <td>2.0</td>\n",
       "      <td>2.0</td>\n",
       "      <td>1090.0</td>\n",
       "      <td>33974100.0</td>\n",
       "      <td>-118423000.0</td>\n",
       "      <td>40247.0</td>\n",
       "      <td>NaN</td>\n",
       "      <td>0.0</td>\n",
       "      <td>2004.0</td>\n",
       "      <td>232897.0</td>\n",
       "      <td>...</td>\n",
       "      <td>0.021853</td>\n",
       "      <td>1</td>\n",
       "      <td>0</td>\n",
       "      <td>0</td>\n",
       "      <td>13.0</td>\n",
       "      <td>0.017242</td>\n",
       "      <td>0.923944</td>\n",
       "      <td>213.666972</td>\n",
       "      <td>3.097647</td>\n",
       "      <td>1.000000</td>\n",
       "    </tr>\n",
       "    <tr>\n",
       "      <th>33</th>\n",
       "      <td>2.0</td>\n",
       "      <td>3.0</td>\n",
       "      <td>2077.0</td>\n",
       "      <td>34012977.0</td>\n",
       "      <td>-118479243.0</td>\n",
       "      <td>6490.0</td>\n",
       "      <td>NaN</td>\n",
       "      <td>0.0</td>\n",
       "      <td>1926.0</td>\n",
       "      <td>210192.0</td>\n",
       "      <td>...</td>\n",
       "      <td>-0.040807</td>\n",
       "      <td>1</td>\n",
       "      <td>0</td>\n",
       "      <td>0</td>\n",
       "      <td>91.0</td>\n",
       "      <td>0.012253</td>\n",
       "      <td>0.148990</td>\n",
       "      <td>101.199807</td>\n",
       "      <td>67.267797</td>\n",
       "      <td>1.500000</td>\n",
       "    </tr>\n",
       "    <tr>\n",
       "      <th>34</th>\n",
       "      <td>3.0</td>\n",
       "      <td>3.0</td>\n",
       "      <td>2019.0</td>\n",
       "      <td>34003621.0</td>\n",
       "      <td>-118477513.0</td>\n",
       "      <td>6763.0</td>\n",
       "      <td>NaN</td>\n",
       "      <td>0.0</td>\n",
       "      <td>NaN</td>\n",
       "      <td>451786.0</td>\n",
       "      <td>...</td>\n",
       "      <td>-0.018862</td>\n",
       "      <td>1</td>\n",
       "      <td>0</td>\n",
       "      <td>0</td>\n",
       "      <td>NaN</td>\n",
       "      <td>0.011900</td>\n",
       "      <td>0.155257</td>\n",
       "      <td>223.767211</td>\n",
       "      <td>144.864114</td>\n",
       "      <td>1.000000</td>\n",
       "    </tr>\n",
       "    <tr>\n",
       "      <th>...</th>\n",
       "      <td>...</td>\n",
       "      <td>...</td>\n",
       "      <td>...</td>\n",
       "      <td>...</td>\n",
       "      <td>...</td>\n",
       "      <td>...</td>\n",
       "      <td>...</td>\n",
       "      <td>...</td>\n",
       "      <td>...</td>\n",
       "      <td>...</td>\n",
       "      <td>...</td>\n",
       "      <td>...</td>\n",
       "      <td>...</td>\n",
       "      <td>...</td>\n",
       "      <td>...</td>\n",
       "      <td>...</td>\n",
       "      <td>...</td>\n",
       "      <td>...</td>\n",
       "      <td>...</td>\n",
       "      <td>...</td>\n",
       "      <td>...</td>\n",
       "    </tr>\n",
       "    <tr>\n",
       "      <th>77409</th>\n",
       "      <td>3.0</td>\n",
       "      <td>4.0</td>\n",
       "      <td>1921.0</td>\n",
       "      <td>34572256.0</td>\n",
       "      <td>-118024872.0</td>\n",
       "      <td>6763.0</td>\n",
       "      <td>NaN</td>\n",
       "      <td>0.0</td>\n",
       "      <td>1990.0</td>\n",
       "      <td>129566.0</td>\n",
       "      <td>...</td>\n",
       "      <td>0.020615</td>\n",
       "      <td>1</td>\n",
       "      <td>0</td>\n",
       "      <td>0</td>\n",
       "      <td>27.0</td>\n",
       "      <td>0.017654</td>\n",
       "      <td>0.155257</td>\n",
       "      <td>67.447163</td>\n",
       "      <td>4.798610</td>\n",
       "      <td>1.333333</td>\n",
       "    </tr>\n",
       "    <tr>\n",
       "      <th>77410</th>\n",
       "      <td>3.0</td>\n",
       "      <td>4.0</td>\n",
       "      <td>1780.0</td>\n",
       "      <td>34571498.0</td>\n",
       "      <td>-118039412.0</td>\n",
       "      <td>6822.0</td>\n",
       "      <td>NaN</td>\n",
       "      <td>0.0</td>\n",
       "      <td>1989.0</td>\n",
       "      <td>100744.0</td>\n",
       "      <td>...</td>\n",
       "      <td>0.013209</td>\n",
       "      <td>1</td>\n",
       "      <td>0</td>\n",
       "      <td>0</td>\n",
       "      <td>28.0</td>\n",
       "      <td>0.019014</td>\n",
       "      <td>0.156612</td>\n",
       "      <td>56.597753</td>\n",
       "      <td>3.690853</td>\n",
       "      <td>1.333333</td>\n",
       "    </tr>\n",
       "    <tr>\n",
       "      <th>77411</th>\n",
       "      <td>2.0</td>\n",
       "      <td>3.0</td>\n",
       "      <td>1549.0</td>\n",
       "      <td>34575327.0</td>\n",
       "      <td>-118054267.0</td>\n",
       "      <td>6987.0</td>\n",
       "      <td>NaN</td>\n",
       "      <td>0.0</td>\n",
       "      <td>1990.0</td>\n",
       "      <td>149241.0</td>\n",
       "      <td>...</td>\n",
       "      <td>0.037129</td>\n",
       "      <td>1</td>\n",
       "      <td>0</td>\n",
       "      <td>0</td>\n",
       "      <td>27.0</td>\n",
       "      <td>0.016744</td>\n",
       "      <td>0.160399</td>\n",
       "      <td>96.346675</td>\n",
       "      <td>7.119937</td>\n",
       "      <td>1.500000</td>\n",
       "    </tr>\n",
       "    <tr>\n",
       "      <th>77412</th>\n",
       "      <td>3.0</td>\n",
       "      <td>3.0</td>\n",
       "      <td>1339.0</td>\n",
       "      <td>34572200.0</td>\n",
       "      <td>-118053000.0</td>\n",
       "      <td>271458.0</td>\n",
       "      <td>NaN</td>\n",
       "      <td>0.0</td>\n",
       "      <td>1990.0</td>\n",
       "      <td>118900.0</td>\n",
       "      <td>...</td>\n",
       "      <td>0.007204</td>\n",
       "      <td>1</td>\n",
       "      <td>0</td>\n",
       "      <td>0</td>\n",
       "      <td>27.0</td>\n",
       "      <td>0.016895</td>\n",
       "      <td>6.231818</td>\n",
       "      <td>88.797610</td>\n",
       "      <td>0.109409</td>\n",
       "      <td>1.000000</td>\n",
       "    </tr>\n",
       "    <tr>\n",
       "      <th>77413</th>\n",
       "      <td>3.0</td>\n",
       "      <td>4.0</td>\n",
       "      <td>2059.0</td>\n",
       "      <td>34561927.0</td>\n",
       "      <td>-118052811.0</td>\n",
       "      <td>7021.0</td>\n",
       "      <td>NaN</td>\n",
       "      <td>0.0</td>\n",
       "      <td>1990.0</td>\n",
       "      <td>104239.0</td>\n",
       "      <td>...</td>\n",
       "      <td>-0.197755</td>\n",
       "      <td>1</td>\n",
       "      <td>0</td>\n",
       "      <td>0</td>\n",
       "      <td>27.0</td>\n",
       "      <td>0.018960</td>\n",
       "      <td>0.161180</td>\n",
       "      <td>50.626032</td>\n",
       "      <td>3.711295</td>\n",
       "      <td>1.333333</td>\n",
       "    </tr>\n",
       "  </tbody>\n",
       "</table>\n",
       "<p>67481 rows × 23 columns</p>\n",
       "</div>"
      ],
      "text/plain": [
       "       bathroomcnt  bedroomcnt  calculatedfinishedsquarefeet    latitude  \\\n",
       "20             2.0         4.0                        3633.0  34560018.0   \n",
       "28             4.0         5.0                        2865.0  33879216.0   \n",
       "30             2.0         2.0                        1090.0  33974100.0   \n",
       "33             2.0         3.0                        2077.0  34012977.0   \n",
       "34             3.0         3.0                        2019.0  34003621.0   \n",
       "...            ...         ...                           ...         ...   \n",
       "77409          3.0         4.0                        1921.0  34572256.0   \n",
       "77410          3.0         4.0                        1780.0  34571498.0   \n",
       "77411          2.0         3.0                        1549.0  34575327.0   \n",
       "77412          3.0         3.0                        1339.0  34572200.0   \n",
       "77413          3.0         4.0                        2059.0  34561927.0   \n",
       "\n",
       "         longitude  lotsizesquarefeet  poolcnt  roomcnt  yearbuilt  \\\n",
       "20    -118169806.0             9826.0      NaN      0.0     2005.0   \n",
       "28    -118361434.0             4990.0      NaN      0.0     1972.0   \n",
       "30    -118423000.0            40247.0      NaN      0.0     2004.0   \n",
       "33    -118479243.0             6490.0      NaN      0.0     1926.0   \n",
       "34    -118477513.0             6763.0      NaN      0.0        NaN   \n",
       "...            ...                ...      ...      ...        ...   \n",
       "77409 -118024872.0             6763.0      NaN      0.0     1990.0   \n",
       "77410 -118039412.0             6822.0      NaN      0.0     1989.0   \n",
       "77411 -118054267.0             6987.0      NaN      0.0     1990.0   \n",
       "77412 -118053000.0           271458.0      NaN      0.0     1990.0   \n",
       "77413 -118052811.0             7021.0      NaN      0.0     1990.0   \n",
       "\n",
       "       structuretaxvaluedollarcnt  ...  logerror  LA  Orange  Ventura   age  \\\n",
       "20                       222321.0  ...  0.042463   1       0        0  12.0   \n",
       "28                       271704.0  ...  0.206470   1       0        0  45.0   \n",
       "30                       232897.0  ...  0.021853   1       0        0  13.0   \n",
       "33                       210192.0  ... -0.040807   1       0        0  91.0   \n",
       "34                       451786.0  ... -0.018862   1       0        0   NaN   \n",
       "...                           ...  ...       ...  ..     ...      ...   ...   \n",
       "77409                    129566.0  ...  0.020615   1       0        0  27.0   \n",
       "77410                    100744.0  ...  0.013209   1       0        0  28.0   \n",
       "77411                    149241.0  ...  0.037129   1       0        0  27.0   \n",
       "77412                    118900.0  ...  0.007204   1       0        0  27.0   \n",
       "77413                    104239.0  ... -0.197755   1       0        0  27.0   \n",
       "\n",
       "        taxrate     acres  structure_dollar_per_sqft  land_dollar_per_sqft  \\\n",
       "20     0.023417  0.225574                  61.194880              7.541624   \n",
       "28     0.012578  0.114555                  94.835602            112.128257   \n",
       "30     0.017242  0.923944                 213.666972              3.097647   \n",
       "33     0.012253  0.148990                 101.199807             67.267797   \n",
       "34     0.011900  0.155257                 223.767211            144.864114   \n",
       "...         ...       ...                        ...                   ...   \n",
       "77409  0.017654  0.155257                  67.447163              4.798610   \n",
       "77410  0.019014  0.156612                  56.597753              3.690853   \n",
       "77411  0.016744  0.160399                  96.346675              7.119937   \n",
       "77412  0.016895  6.231818                  88.797610              0.109409   \n",
       "77413  0.018960  0.161180                  50.626032              3.711295   \n",
       "\n",
       "       bed_bath_ratio  \n",
       "20           2.000000  \n",
       "28           1.250000  \n",
       "30           1.000000  \n",
       "33           1.500000  \n",
       "34           1.000000  \n",
       "...               ...  \n",
       "77409        1.333333  \n",
       "77410        1.333333  \n",
       "77411        1.500000  \n",
       "77412        1.000000  \n",
       "77413        1.333333  \n",
       "\n",
       "[67481 rows x 23 columns]"
      ]
     },
     "execution_count": 10,
     "metadata": {},
     "output_type": "execute_result"
    }
   ],
   "source": [
    "df = wrangle_zillow.remove_outliers(df)\n",
    "df"
   ]
  },
  {
   "cell_type": "code",
   "execution_count": 11,
   "metadata": {
    "scrolled": true
   },
   "outputs": [
    {
     "data": {
      "text/plain": [
       "(67481, 23)"
      ]
     },
     "execution_count": 11,
     "metadata": {},
     "output_type": "execute_result"
    }
   ],
   "source": [
    "# checking if outliers function got rid of most of the nulls\n",
    "df.isnull().sum()\n",
    "df.shape"
   ]
  },
  {
   "cell_type": "code",
   "execution_count": 12,
   "metadata": {},
   "outputs": [
    {
     "data": {
      "text/plain": [
       "(67481, 22)"
      ]
     },
     "execution_count": 12,
     "metadata": {},
     "output_type": "execute_result"
    }
   ],
   "source": [
    "#going to drop the rest of the nulls\n",
    "df = df.drop(columns=['poolcnt'])\n",
    "df.shape"
   ]
  },
  {
   "cell_type": "code",
   "execution_count": 13,
   "metadata": {
    "scrolled": true
   },
   "outputs": [
    {
     "data": {
      "text/plain": [
       "bathroomcnt                      0\n",
       "bedroomcnt                       0\n",
       "calculatedfinishedsquarefeet     0\n",
       "latitude                         0\n",
       "longitude                        0\n",
       "lotsizesquarefeet                0\n",
       "roomcnt                          0\n",
       "yearbuilt                       62\n",
       "structuretaxvaluedollarcnt      24\n",
       "taxvaluedollarcnt                0\n",
       "landtaxvaluedollarcnt            0\n",
       "taxamount                        0\n",
       "logerror                         0\n",
       "LA                               0\n",
       "Orange                           0\n",
       "Ventura                          0\n",
       "age                             62\n",
       "taxrate                          0\n",
       "acres                            0\n",
       "structure_dollar_per_sqft       24\n",
       "land_dollar_per_sqft             0\n",
       "bed_bath_ratio                   0\n",
       "dtype: int64"
      ]
     },
     "execution_count": 13,
     "metadata": {},
     "output_type": "execute_result"
    }
   ],
   "source": [
    "df.isnull().sum()\n",
    "#df.shape"
   ]
  },
  {
   "cell_type": "code",
   "execution_count": 14,
   "metadata": {
    "scrolled": true
   },
   "outputs": [
    {
     "data": {
      "text/plain": [
       "(67395, 22)"
      ]
     },
     "execution_count": 14,
     "metadata": {},
     "output_type": "execute_result"
    }
   ],
   "source": [
    "df.dropna(inplace=True)\n",
    "df.shape"
   ]
  },
  {
   "cell_type": "code",
   "execution_count": 15,
   "metadata": {
    "scrolled": true
   },
   "outputs": [
    {
     "data": {
      "text/plain": [
       "bathroomcnt                     0\n",
       "bedroomcnt                      0\n",
       "calculatedfinishedsquarefeet    0\n",
       "latitude                        0\n",
       "longitude                       0\n",
       "lotsizesquarefeet               0\n",
       "roomcnt                         0\n",
       "yearbuilt                       0\n",
       "structuretaxvaluedollarcnt      0\n",
       "taxvaluedollarcnt               0\n",
       "landtaxvaluedollarcnt           0\n",
       "taxamount                       0\n",
       "logerror                        0\n",
       "LA                              0\n",
       "Orange                          0\n",
       "Ventura                         0\n",
       "age                             0\n",
       "taxrate                         0\n",
       "acres                           0\n",
       "structure_dollar_per_sqft       0\n",
       "land_dollar_per_sqft            0\n",
       "bed_bath_ratio                  0\n",
       "dtype: int64"
      ]
     },
     "execution_count": 15,
     "metadata": {},
     "output_type": "execute_result"
    }
   ],
   "source": [
    "#making sure we dont have any nulls\n",
    "df.isnull().sum()"
   ]
  },
  {
   "cell_type": "code",
   "execution_count": 16,
   "metadata": {},
   "outputs": [],
   "source": [
    "X_train, y_train, X_validate, y_validate, X_test, y_test = wrangle_zillow.split(df, 'logerror')"
   ]
  },
  {
   "cell_type": "code",
   "execution_count": 17,
   "metadata": {
    "scrolled": true
   },
   "outputs": [
    {
     "data": {
      "text/html": [
       "<div>\n",
       "<style scoped>\n",
       "    .dataframe tbody tr th:only-of-type {\n",
       "        vertical-align: middle;\n",
       "    }\n",
       "\n",
       "    .dataframe tbody tr th {\n",
       "        vertical-align: top;\n",
       "    }\n",
       "\n",
       "    .dataframe thead th {\n",
       "        text-align: right;\n",
       "    }\n",
       "</style>\n",
       "<table border=\"1\" class=\"dataframe\">\n",
       "  <thead>\n",
       "    <tr style=\"text-align: right;\">\n",
       "      <th></th>\n",
       "      <th>bathroomcnt</th>\n",
       "      <th>bedroomcnt</th>\n",
       "      <th>calculatedfinishedsquarefeet</th>\n",
       "      <th>latitude</th>\n",
       "      <th>longitude</th>\n",
       "      <th>lotsizesquarefeet</th>\n",
       "      <th>roomcnt</th>\n",
       "      <th>yearbuilt</th>\n",
       "      <th>structuretaxvaluedollarcnt</th>\n",
       "      <th>taxvaluedollarcnt</th>\n",
       "      <th>...</th>\n",
       "      <th>taxamount</th>\n",
       "      <th>LA</th>\n",
       "      <th>Orange</th>\n",
       "      <th>Ventura</th>\n",
       "      <th>age</th>\n",
       "      <th>taxrate</th>\n",
       "      <th>acres</th>\n",
       "      <th>structure_dollar_per_sqft</th>\n",
       "      <th>land_dollar_per_sqft</th>\n",
       "      <th>bed_bath_ratio</th>\n",
       "    </tr>\n",
       "  </thead>\n",
       "  <tbody>\n",
       "    <tr>\n",
       "      <th>count</th>\n",
       "      <td>37741.000000</td>\n",
       "      <td>37741.000000</td>\n",
       "      <td>37741.00000</td>\n",
       "      <td>3.774100e+04</td>\n",
       "      <td>3.774100e+04</td>\n",
       "      <td>37741.000000</td>\n",
       "      <td>37741.000000</td>\n",
       "      <td>37741.000000</td>\n",
       "      <td>3.774100e+04</td>\n",
       "      <td>3.774100e+04</td>\n",
       "      <td>...</td>\n",
       "      <td>37741.000000</td>\n",
       "      <td>37741.000000</td>\n",
       "      <td>37741.000000</td>\n",
       "      <td>37741.000000</td>\n",
       "      <td>37741.000000</td>\n",
       "      <td>37741.000000</td>\n",
       "      <td>37741.000000</td>\n",
       "      <td>37741.000000</td>\n",
       "      <td>37741.000000</td>\n",
       "      <td>37741.000000</td>\n",
       "    </tr>\n",
       "    <tr>\n",
       "      <th>mean</th>\n",
       "      <td>2.283617</td>\n",
       "      <td>3.243184</td>\n",
       "      <td>1805.73970</td>\n",
       "      <td>3.402324e+07</td>\n",
       "      <td>-1.182273e+08</td>\n",
       "      <td>16966.160833</td>\n",
       "      <td>1.609152</td>\n",
       "      <td>1962.577277</td>\n",
       "      <td>1.693683e+05</td>\n",
       "      <td>4.278609e+05</td>\n",
       "      <td>...</td>\n",
       "      <td>5243.142018</td>\n",
       "      <td>0.713760</td>\n",
       "      <td>0.208209</td>\n",
       "      <td>0.078032</td>\n",
       "      <td>54.422723</td>\n",
       "      <td>0.013118</td>\n",
       "      <td>0.389489</td>\n",
       "      <td>88.566119</td>\n",
       "      <td>37.225998</td>\n",
       "      <td>1.560720</td>\n",
       "    </tr>\n",
       "    <tr>\n",
       "      <th>std</th>\n",
       "      <td>0.927166</td>\n",
       "      <td>0.997294</td>\n",
       "      <td>826.39359</td>\n",
       "      <td>2.378054e+05</td>\n",
       "      <td>3.412033e+05</td>\n",
       "      <td>40108.366566</td>\n",
       "      <td>2.985957</td>\n",
       "      <td>22.611698</td>\n",
       "      <td>1.638743e+05</td>\n",
       "      <td>4.658047e+05</td>\n",
       "      <td>...</td>\n",
       "      <td>5365.095838</td>\n",
       "      <td>0.452009</td>\n",
       "      <td>0.406032</td>\n",
       "      <td>0.268225</td>\n",
       "      <td>22.611698</td>\n",
       "      <td>0.002838</td>\n",
       "      <td>0.920761</td>\n",
       "      <td>51.360644</td>\n",
       "      <td>57.468022</td>\n",
       "      <td>0.570448</td>\n",
       "    </tr>\n",
       "    <tr>\n",
       "      <th>min</th>\n",
       "      <td>1.000000</td>\n",
       "      <td>1.000000</td>\n",
       "      <td>320.00000</td>\n",
       "      <td>3.333938e+07</td>\n",
       "      <td>-1.194484e+08</td>\n",
       "      <td>435.000000</td>\n",
       "      <td>0.000000</td>\n",
       "      <td>1808.000000</td>\n",
       "      <td>1.000000e+01</td>\n",
       "      <td>1.030100e+04</td>\n",
       "      <td>...</td>\n",
       "      <td>50.720000</td>\n",
       "      <td>0.000000</td>\n",
       "      <td>0.000000</td>\n",
       "      <td>0.000000</td>\n",
       "      <td>1.000000</td>\n",
       "      <td>0.000282</td>\n",
       "      <td>0.009986</td>\n",
       "      <td>0.010823</td>\n",
       "      <td>0.004356</td>\n",
       "      <td>0.250000</td>\n",
       "    </tr>\n",
       "    <tr>\n",
       "      <th>25%</th>\n",
       "      <td>2.000000</td>\n",
       "      <td>3.000000</td>\n",
       "      <td>1242.00000</td>\n",
       "      <td>3.385198e+07</td>\n",
       "      <td>-1.184161e+08</td>\n",
       "      <td>5700.000000</td>\n",
       "      <td>0.000000</td>\n",
       "      <td>1950.000000</td>\n",
       "      <td>7.919500e+04</td>\n",
       "      <td>1.902000e+05</td>\n",
       "      <td>...</td>\n",
       "      <td>2543.560000</td>\n",
       "      <td>0.000000</td>\n",
       "      <td>0.000000</td>\n",
       "      <td>0.000000</td>\n",
       "      <td>38.000000</td>\n",
       "      <td>0.011820</td>\n",
       "      <td>0.130854</td>\n",
       "      <td>55.683557</td>\n",
       "      <td>7.352953</td>\n",
       "      <td>1.000000</td>\n",
       "    </tr>\n",
       "    <tr>\n",
       "      <th>50%</th>\n",
       "      <td>2.000000</td>\n",
       "      <td>3.000000</td>\n",
       "      <td>1600.00000</td>\n",
       "      <td>3.403373e+07</td>\n",
       "      <td>-1.181978e+08</td>\n",
       "      <td>7003.000000</td>\n",
       "      <td>0.000000</td>\n",
       "      <td>1961.000000</td>\n",
       "      <td>1.280000e+05</td>\n",
       "      <td>3.235820e+05</td>\n",
       "      <td>...</td>\n",
       "      <td>4058.490000</td>\n",
       "      <td>1.000000</td>\n",
       "      <td>0.000000</td>\n",
       "      <td>0.000000</td>\n",
       "      <td>56.000000</td>\n",
       "      <td>0.012394</td>\n",
       "      <td>0.160767</td>\n",
       "      <td>82.039334</td>\n",
       "      <td>23.281329</td>\n",
       "      <td>1.500000</td>\n",
       "    </tr>\n",
       "    <tr>\n",
       "      <th>75%</th>\n",
       "      <td>3.000000</td>\n",
       "      <td>4.000000</td>\n",
       "      <td>2164.00000</td>\n",
       "      <td>3.417652e+07</td>\n",
       "      <td>-1.179781e+08</td>\n",
       "      <td>9750.000000</td>\n",
       "      <td>0.000000</td>\n",
       "      <td>1979.000000</td>\n",
       "      <td>2.030000e+05</td>\n",
       "      <td>5.143950e+05</td>\n",
       "      <td>...</td>\n",
       "      <td>6204.880000</td>\n",
       "      <td>1.000000</td>\n",
       "      <td>0.000000</td>\n",
       "      <td>0.000000</td>\n",
       "      <td>67.000000</td>\n",
       "      <td>0.013509</td>\n",
       "      <td>0.223829</td>\n",
       "      <td>111.727967</td>\n",
       "      <td>46.525815</td>\n",
       "      <td>2.000000</td>\n",
       "    </tr>\n",
       "    <tr>\n",
       "      <th>max</th>\n",
       "      <td>7.000000</td>\n",
       "      <td>7.000000</td>\n",
       "      <td>6997.00000</td>\n",
       "      <td>3.480695e+07</td>\n",
       "      <td>-1.175559e+08</td>\n",
       "      <td>435559.000000</td>\n",
       "      <td>86.000000</td>\n",
       "      <td>2016.000000</td>\n",
       "      <td>4.568625e+06</td>\n",
       "      <td>1.878212e+07</td>\n",
       "      <td>...</td>\n",
       "      <td>224696.170000</td>\n",
       "      <td>1.000000</td>\n",
       "      <td>1.000000</td>\n",
       "      <td>1.000000</td>\n",
       "      <td>209.000000</td>\n",
       "      <td>0.049959</td>\n",
       "      <td>9.999059</td>\n",
       "      <td>991.246461</td>\n",
       "      <td>2238.451004</td>\n",
       "      <td>7.000000</td>\n",
       "    </tr>\n",
       "  </tbody>\n",
       "</table>\n",
       "<p>8 rows × 21 columns</p>\n",
       "</div>"
      ],
      "text/plain": [
       "        bathroomcnt    bedroomcnt  calculatedfinishedsquarefeet      latitude  \\\n",
       "count  37741.000000  37741.000000                   37741.00000  3.774100e+04   \n",
       "mean       2.283617      3.243184                    1805.73970  3.402324e+07   \n",
       "std        0.927166      0.997294                     826.39359  2.378054e+05   \n",
       "min        1.000000      1.000000                     320.00000  3.333938e+07   \n",
       "25%        2.000000      3.000000                    1242.00000  3.385198e+07   \n",
       "50%        2.000000      3.000000                    1600.00000  3.403373e+07   \n",
       "75%        3.000000      4.000000                    2164.00000  3.417652e+07   \n",
       "max        7.000000      7.000000                    6997.00000  3.480695e+07   \n",
       "\n",
       "          longitude  lotsizesquarefeet       roomcnt     yearbuilt  \\\n",
       "count  3.774100e+04       37741.000000  37741.000000  37741.000000   \n",
       "mean  -1.182273e+08       16966.160833      1.609152   1962.577277   \n",
       "std    3.412033e+05       40108.366566      2.985957     22.611698   \n",
       "min   -1.194484e+08         435.000000      0.000000   1808.000000   \n",
       "25%   -1.184161e+08        5700.000000      0.000000   1950.000000   \n",
       "50%   -1.181978e+08        7003.000000      0.000000   1961.000000   \n",
       "75%   -1.179781e+08        9750.000000      0.000000   1979.000000   \n",
       "max   -1.175559e+08      435559.000000     86.000000   2016.000000   \n",
       "\n",
       "       structuretaxvaluedollarcnt  taxvaluedollarcnt  ...      taxamount  \\\n",
       "count                3.774100e+04       3.774100e+04  ...   37741.000000   \n",
       "mean                 1.693683e+05       4.278609e+05  ...    5243.142018   \n",
       "std                  1.638743e+05       4.658047e+05  ...    5365.095838   \n",
       "min                  1.000000e+01       1.030100e+04  ...      50.720000   \n",
       "25%                  7.919500e+04       1.902000e+05  ...    2543.560000   \n",
       "50%                  1.280000e+05       3.235820e+05  ...    4058.490000   \n",
       "75%                  2.030000e+05       5.143950e+05  ...    6204.880000   \n",
       "max                  4.568625e+06       1.878212e+07  ...  224696.170000   \n",
       "\n",
       "                 LA        Orange       Ventura           age       taxrate  \\\n",
       "count  37741.000000  37741.000000  37741.000000  37741.000000  37741.000000   \n",
       "mean       0.713760      0.208209      0.078032     54.422723      0.013118   \n",
       "std        0.452009      0.406032      0.268225     22.611698      0.002838   \n",
       "min        0.000000      0.000000      0.000000      1.000000      0.000282   \n",
       "25%        0.000000      0.000000      0.000000     38.000000      0.011820   \n",
       "50%        1.000000      0.000000      0.000000     56.000000      0.012394   \n",
       "75%        1.000000      0.000000      0.000000     67.000000      0.013509   \n",
       "max        1.000000      1.000000      1.000000    209.000000      0.049959   \n",
       "\n",
       "              acres  structure_dollar_per_sqft  land_dollar_per_sqft  \\\n",
       "count  37741.000000               37741.000000          37741.000000   \n",
       "mean       0.389489                  88.566119             37.225998   \n",
       "std        0.920761                  51.360644             57.468022   \n",
       "min        0.009986                   0.010823              0.004356   \n",
       "25%        0.130854                  55.683557              7.352953   \n",
       "50%        0.160767                  82.039334             23.281329   \n",
       "75%        0.223829                 111.727967             46.525815   \n",
       "max        9.999059                 991.246461           2238.451004   \n",
       "\n",
       "       bed_bath_ratio  \n",
       "count    37741.000000  \n",
       "mean         1.560720  \n",
       "std          0.570448  \n",
       "min          0.250000  \n",
       "25%          1.000000  \n",
       "50%          1.500000  \n",
       "75%          2.000000  \n",
       "max          7.000000  \n",
       "\n",
       "[8 rows x 21 columns]"
      ]
     },
     "execution_count": 17,
     "metadata": {},
     "output_type": "execute_result"
    }
   ],
   "source": [
    "# Time to EXPLORE\n",
    "X_train.shape, X_validate.shape,X_test.shape\n",
    "X_train.describe()\n"
   ]
  },
  {
   "cell_type": "code",
   "execution_count": 18,
   "metadata": {},
   "outputs": [],
   "source": [
    "X_train_scaled, X_validate_scaled, X_test_scaled = wrangle_zillow.scale_min_max(X_train,X_validate,X_test)"
   ]
  },
  {
   "cell_type": "code",
   "execution_count": null,
   "metadata": {},
   "outputs": [],
   "source": []
  },
  {
   "cell_type": "code",
   "execution_count": 19,
   "metadata": {},
   "outputs": [
    {
     "data": {
      "text/plain": [
       "(       bathroomcnt  bedroomcnt  calculatedfinishedsquarefeet  latitude  \\\n",
       " 34411     0.166667    0.166667                      0.222405  0.455669   \n",
       " 28489     0.333333    0.333333                      0.204283  0.721281   \n",
       " 75203     0.166667    0.500000                      0.294593  0.620845   \n",
       " 76643     0.166667    0.333333                      0.247716  0.623014   \n",
       " 66301     0.000000    0.333333                      0.135091  0.401462   \n",
       " ...            ...         ...                           ...       ...   \n",
       " 10125     0.166667    0.333333                      0.142429  0.482667   \n",
       " 6406      0.500000    0.500000                      0.419050  0.565404   \n",
       " 41726     0.166667    0.333333                      0.209825  0.236288   \n",
       " 16014     0.333333    0.500000                      0.348660  0.546236   \n",
       " 20069     0.166667    0.333333                      0.168938  0.476757   \n",
       " \n",
       "        longitude  lotsizesquarefeet   roomcnt  yearbuilt  \\\n",
       " 34411   0.584036           0.018204  0.000000   0.692308   \n",
       " 28489   0.482497           0.015745  0.000000   0.927885   \n",
       " 75203   0.348725           0.053029  0.093023   0.812500   \n",
       " 76643   0.602070           0.014993  0.000000   0.865385   \n",
       " 66301   0.667650           0.013375  0.000000   0.639423   \n",
       " ...          ...                ...       ...        ...   \n",
       " 10125   0.844772           0.308057  0.000000   0.793269   \n",
       " 6406    0.690826           0.023635  0.000000   0.519231   \n",
       " 41726   0.881085           0.015134  0.081395   0.774038   \n",
       " 16014   0.320638           0.026487  0.000000   0.831731   \n",
       " 20069   0.715757           0.379556  0.000000   0.807692   \n",
       " \n",
       "        structuretaxvaluedollarcnt  taxvaluedollarcnt  ...  taxamount   LA  \\\n",
       " 34411                    0.018213           0.021922  ...   0.023284  1.0   \n",
       " 28489                    0.042308           0.018091  ...   0.022091  1.0   \n",
       " 75203                    0.052636           0.018461  ...   0.018528  0.0   \n",
       " 76643                    0.049961           0.019718  ...   0.020652  1.0   \n",
       " 66301                    0.017122           0.009069  ...   0.012049  1.0   \n",
       " ...                           ...                ...  ...        ...  ...   \n",
       " 10125                    0.039616           0.018789  ...   0.019163  1.0   \n",
       " 6406                     0.012124           0.003867  ...   0.006976  1.0   \n",
       " 41726                    0.023609           0.040683  ...   0.034838  0.0   \n",
       " 16014                    0.081481           0.032503  ...   0.032042  0.0   \n",
       " 20069                    0.032036           0.010101  ...   0.014013  1.0   \n",
       " \n",
       "        Orange  Ventura       age   taxrate     acres  \\\n",
       " 34411     0.0      0.0  0.307692  0.246363  0.018204   \n",
       " 28489     0.0      0.0  0.072115  0.282742  0.015745   \n",
       " 75203     0.0      1.0  0.187500  0.231978  0.053029   \n",
       " 76643     0.0      0.0  0.134615  0.242485  0.014993   \n",
       " 66301     0.0      0.0  0.360577  0.301787  0.013375   \n",
       " ...       ...      ...       ...       ...       ...   \n",
       " 10125     0.0      0.0  0.206731  0.235854  0.308057   \n",
       " 6406      0.0      0.0  0.480769  0.387172  0.023635   \n",
       " 41726     1.0      0.0  0.225962  0.199184  0.015134   \n",
       " 16014     0.0      1.0  0.168269  0.229508  0.026487   \n",
       " 20069     0.0      0.0  0.192308  0.316410  0.379556   \n",
       " \n",
       "        structure_dollar_per_sqft  land_dollar_per_sqft  bed_bath_ratio  \n",
       " 34411                   0.046501              0.018100        0.111111  \n",
       " 28489                   0.115790              0.009600        0.111111  \n",
       " 75203                   0.106072              0.002209        0.259259  \n",
       " 76643                   0.116646              0.009767        0.185185  \n",
       " 66301                   0.064576              0.007305        0.407407  \n",
       " ...                          ...                   ...             ...  \n",
       " 10125                   0.143656              0.000603        0.185185  \n",
       " 6406                    0.017914              0.001144        0.111111  \n",
       " 41726                   0.063223              0.042389        0.185185  \n",
       " 16014                   0.141816              0.009268        0.160494  \n",
       " 20069                   0.101966              0.000142        0.185185  \n",
       " \n",
       " [37741 rows x 21 columns],\n",
       "        bathroomcnt  bedroomcnt  calculatedfinishedsquarefeet  latitude  \\\n",
       " 69694     0.166667    0.333333                      0.255504  0.291616   \n",
       " 69362     0.333333    0.500000                      0.221507  0.543375   \n",
       " 41752     0.250000    0.666667                      0.313464  0.218105   \n",
       " 66724     0.166667    0.500000                      0.302381  0.413043   \n",
       " 54353     0.000000    0.333333                      0.105437  0.510130   \n",
       " ...            ...         ...                           ...       ...   \n",
       " 47843     0.166667    0.333333                      0.117867  0.922546   \n",
       " 61194     0.166667    0.333333                      0.241276  0.589562   \n",
       " 48991     0.500000    0.500000                      0.514003  0.536091   \n",
       " 51487     0.166667    0.333333                      0.165943  0.379937   \n",
       " 26605     0.333333    0.333333                      0.420249  0.354958   \n",
       " \n",
       "        longitude  lotsizesquarefeet   roomcnt  yearbuilt  \\\n",
       " 69694   0.834431           0.019914  0.069767   0.697115   \n",
       " 69362   0.827731           0.008122  0.000000   0.812500   \n",
       " 41752   0.863659           0.013939  0.104651   0.769231   \n",
       " 66724   0.708365           0.026983  0.000000   0.701923   \n",
       " 54353   0.744714           0.011190  0.000000   0.687500   \n",
       " ...          ...                ...       ...        ...   \n",
       " 47843   0.702508           0.015175  0.000000   0.716346   \n",
       " 61194   0.502028           0.023159  0.000000   0.735577   \n",
       " 48991   0.517118           0.063421  0.000000   0.783654   \n",
       " 51487   0.673695           0.015366  0.000000   0.697115   \n",
       " 26605   0.906795           0.014168  0.000000   0.884615   \n",
       " \n",
       "        structuretaxvaluedollarcnt  taxvaluedollarcnt  ...  taxamount   LA  \\\n",
       " 69694                    0.034781           0.019275  ...   0.019454  0.0   \n",
       " 69362                    0.048110           0.019630  ...   0.019572  1.0   \n",
       " 41752                    0.014367           0.006250  ...   0.005727  0.0   \n",
       " 66724                    0.042610           0.034094  ...   0.035203  1.0   \n",
       " 54353                    0.019260           0.022891  ...   0.028355  1.0   \n",
       " ...                           ...                ...  ...        ...  ...   \n",
       " 47843                    0.020174           0.005992  ...   0.009702  1.0   \n",
       " 61194                    0.040032           0.020783  ...   0.021858  1.0   \n",
       " 48991                    0.061964           0.019044  ...   0.021433  1.0   \n",
       " 51487                    0.023865           0.012230  ...   0.014276  1.0   \n",
       " 26605                    0.068574           0.047182  ...   0.042205  0.0   \n",
       " \n",
       "        Orange  Ventura       age   taxrate     acres  \\\n",
       " 69694     1.0      0.0  0.302885  0.233471  0.019914   \n",
       " 69362     0.0      0.0  0.187500  0.230676  0.008122   \n",
       " 41752     1.0      0.0  0.230769  0.205233  0.013939   \n",
       " 66724     0.0      0.0  0.298077  0.240682  0.026983   \n",
       " 54353     0.0      0.0  0.312500  0.288064  0.011190   \n",
       " ...       ...      ...       ...       ...       ...   \n",
       " 47843     0.0      0.0  0.283654  0.359976  0.015175   \n",
       " 61194     0.0      0.0  0.264423  0.243717  0.023159   \n",
       " 48991     0.0      0.0  0.216346  0.260624  0.063421   \n",
       " 51487     0.0      0.0  0.302885  0.267692  0.015366   \n",
       " 26605     1.0      0.0  0.115385  0.208470  0.014168   \n",
       " \n",
       "        structure_dollar_per_sqft  land_dollar_per_sqft  bed_bath_ratio  \n",
       " 69694                   0.079119              0.010465        0.185185  \n",
       " 69362                   0.123252              0.017893        0.160494  \n",
       " 41752                   0.027435              0.004258        0.259259  \n",
       " 66724                   0.083957              0.016715        0.259259  \n",
       " 54353                   0.086686              0.029646        0.407407  \n",
       " ...                          ...                   ...             ...  \n",
       " 47843                   0.083992              0.001940        0.185185  \n",
       " 61194                   0.095544              0.009243        0.185185  \n",
       " 48991                   0.076110              0.001348        0.111111  \n",
       " 51487                   0.077021              0.008207        0.185185  \n",
       " 26605                   0.101099              0.039440        0.111111  \n",
       " \n",
       " [16175 rows x 21 columns],\n",
       "        bathroomcnt  bedroomcnt  calculatedfinishedsquarefeet  latitude  \\\n",
       " 45285     0.166667    0.333333                      0.197544  0.599853   \n",
       " 23458     0.000000    0.333333                      0.107533  0.399052   \n",
       " 8512      0.333333    0.166667                      0.236783  0.311902   \n",
       " 32587     0.333333    0.666667                      0.327842  0.643203   \n",
       " 68324     0.166667    0.333333                      0.277969  0.449615   \n",
       " ...            ...         ...                           ...       ...   \n",
       " 25480     0.166667    0.500000                      0.189007  0.285304   \n",
       " 76718     0.166667    0.333333                      0.158155  0.645120   \n",
       " 54216     0.000000    0.333333                      0.097649  0.553550   \n",
       " 77338     0.166667    0.500000                      0.137187  0.847470   \n",
       " 63912     0.166667    0.166667                      0.199191  0.490825   \n",
       " \n",
       "        longitude  lotsizesquarefeet   roomcnt  yearbuilt  \\\n",
       " 45285   0.293793           0.023026  0.069767   0.822115   \n",
       " 23458   0.716812           0.009995  0.000000   0.687500   \n",
       " 8512    0.578106           0.018455  0.000000   0.716346   \n",
       " 32587   0.471421           0.018546  0.000000   0.778846   \n",
       " 68324   0.738048           0.025790  0.000000   0.701923   \n",
       " ...          ...                ...       ...        ...   \n",
       " 25480   0.771695           0.016064  0.046512   0.677885   \n",
       " 76718   0.525542           0.016237  0.000000   0.711538   \n",
       " 54216   0.769145           0.012861  0.000000   0.394231   \n",
       " 77338   0.701015           0.017338  0.000000   0.701923   \n",
       " 63912   0.564552           0.026572  0.000000   0.865385   \n",
       " \n",
       "        structuretaxvaluedollarcnt  taxvaluedollarcnt  ...  taxamount   LA  \\\n",
       " 45285                    0.051968           0.018910  ...   0.018051  0.0   \n",
       " 23458                    0.020175           0.018921  ...   0.020849  1.0   \n",
       " 8512                     0.033754           0.037577  ...   0.039739  1.0   \n",
       " 32587                    0.032543           0.009630  ...   0.010822  1.0   \n",
       " 68324                    0.037315           0.017570  ...   0.019240  1.0   \n",
       " ...                           ...                ...  ...        ...  ...   \n",
       " 25480                    0.016380           0.021617  ...   0.022636  0.0   \n",
       " 76718                    0.035713           0.013938  ...   0.015373  1.0   \n",
       " 54216                    0.006069           0.024572  ...   0.027382  1.0   \n",
       " 77338                    0.018131           0.005271  ...   0.009495  1.0   \n",
       " 63912                    0.057359           0.021555  ...   0.021989  1.0   \n",
       " \n",
       "        Orange  Ventura       age   taxrate     acres  \\\n",
       " 45285     0.0      1.0  0.177885  0.220591  0.023026   \n",
       " 23458     0.0      0.0  0.312500  0.255074  0.009995   \n",
       " 8512      0.0      0.0  0.283654  0.246837  0.018455   \n",
       " 32587     0.0      0.0  0.221154  0.255804  0.018546   \n",
       " 68324     0.0      0.0  0.298077  0.253139  0.025790   \n",
       " ...       ...      ...       ...       ...       ...   \n",
       " 25480     1.0      0.0  0.322115  0.242788  0.016064   \n",
       " 76718     0.0      0.0  0.288462  0.253698  0.016237   \n",
       " 54216     0.0      0.0  0.605769  0.259073  0.012861   \n",
       " 77338     0.0      0.0  0.298077  0.396685  0.017338   \n",
       " 63912     0.0      0.0  0.134615  0.236431  0.026572   \n",
       " \n",
       "        structure_dollar_per_sqft  land_dollar_per_sqft  bed_bath_ratio  \n",
       " 45285                   0.146135              0.005461        0.185185  \n",
       " 23458                   0.089584              0.025520        0.407407  \n",
       " 8512                    0.081831              0.029630        0.061728  \n",
       " 32587                   0.059775              0.002224        0.209877  \n",
       " 68324                   0.079030              0.006499        0.185185  \n",
       " ...                          ...                   ...             ...  \n",
       " 25480                   0.047716              0.020530        0.259259  \n",
       " 76718                   0.119620              0.006477        0.185185  \n",
       " 54216                   0.028776              0.032874        0.407407  \n",
       " 77338                   0.067606              0.001476        0.259259  \n",
       " 63912                   0.160218              0.005690        0.111111  \n",
       " \n",
       " [13479 rows x 21 columns])"
      ]
     },
     "execution_count": 19,
     "metadata": {},
     "output_type": "execute_result"
    }
   ],
   "source": [
    "X_train_scaled,X_validate_scaled,X_test_scaled"
   ]
  },
  {
   "cell_type": "code",
   "execution_count": 20,
   "metadata": {},
   "outputs": [
    {
     "name": "stdout",
     "output_type": "stream",
     "text": [
      "     k         sse\n",
      "0    2  313.029004\n",
      "1    3  249.078159\n",
      "2    4  193.525587\n",
      "3    5  162.535982\n",
      "4    6  140.763977\n",
      "5    7  122.301415\n",
      "6    8  111.694381\n",
      "7    9  102.566665\n",
      "8   10   95.129336\n",
      "9   11   89.373106\n",
      "10  12   83.197096\n",
      "11  13   77.960866\n",
      "12  14   73.038692\n",
      "13  15   69.749470\n",
      "14  16   66.638147\n",
      "15  17   62.854848\n",
      "16  18   60.786994\n",
      "17  19   58.418360\n"
     ]
    },
    {
     "data": {
      "image/png": "[encoded data removed]",
      "text/plain": [
       "<Figure size 432x288 with 1 Axes>"
      ]
     },
     "metadata": {
      "needs_background": "light"
     },
     "output_type": "display_data"
    }
   ],
   "source": [
    "area_vars = ['bed_bath_ratio','structure_dollar_per_sqft','taxrate']\n",
    "wrangle_zillow.elbow_plot(X_train_scaled, cluster_vars=area_vars)"
   ]
  },
  {
   "cell_type": "code",
   "execution_count": 21,
   "metadata": {},
   "outputs": [],
   "source": [
    "k=6\n",
    "#wrangle_zillow.run_kmeans(X_train_scaled,k,cluster_vars=area_vars,cluster_col_name='bedbathsqft')"
   ]
  },
  {
   "cell_type": "code",
   "execution_count": 22,
   "metadata": {},
   "outputs": [],
   "source": [
    "def run_kmeans(X_train_scaled, X_train,k, cluster_vars, cluster_col_name):\n",
    "    # create kmeans object\n",
    "    kmeans = KMeans(n_clusters = k, random_state = 13)\n",
    "    kmeans.fit(X_train_scaled[cluster_vars])\n",
    "    # predict and create a dataframe with cluster per observation\n",
    "    train_clusters = \\\n",
    "        pd.DataFrame(kmeans.predict(X_train_scaled[cluster_vars]),\n",
    "                              columns=[cluster_col_name],\n",
    "                              index=X_train.index)\n",
    "    \n",
    "    return train_clusters, kmeans\n",
    "\n",
    "train_clusters, kmeans = run_kmeans(X_train_scaled, X_train,k, cluster_vars=area_vars, cluster_col_name='bedbathsqft')"
   ]
  },
  {
   "cell_type": "code",
   "execution_count": 23,
   "metadata": {
    "scrolled": true
   },
   "outputs": [
    {
     "data": {
      "text/plain": [
       "2    13844\n",
       "4     8603\n",
       "1     7699\n",
       "0     2847\n",
       "5     2594\n",
       "3     2154\n",
       "Name: bedbathsqft, dtype: int64"
      ]
     },
     "execution_count": 23,
     "metadata": {},
     "output_type": "execute_result"
    }
   ],
   "source": [
    "train_clusters.bedbathsqft.value_counts()"
   ]
  },
  {
   "cell_type": "code",
   "execution_count": 24,
   "metadata": {},
   "outputs": [],
   "source": [
    "centroid_col_names = ['centroid_' + i for i in area_vars]\n",
    "centroid_col_names\n",
    "\n",
    "centroids = pd.DataFrame(kmeans.cluster_centers_, \n",
    "             columns=centroid_col_names).reset_index().rename(columns={'index': 'bedbathsqft'})"
   ]
  },
  {
   "cell_type": "code",
   "execution_count": 25,
   "metadata": {},
   "outputs": [],
   "source": [
    "# concatenate cluster id\n",
    "X_train = pd.concat([X_train, train_clusters], axis=1)\n",
    "\n",
    "# join on clusterid to get centroids\n",
    "X_train = X_train.merge(centroids, how='left', on=['bedbathsqft']).\\\n",
    "                set_index(X_train.index)"
   ]
  },
  {
   "cell_type": "code",
   "execution_count": 26,
   "metadata": {},
   "outputs": [],
   "source": [
    "def kmeans_transform(X_scaled, kmeans, cluster_vars, cluster_col_name):\n",
    "    kmeans.transform(X_scaled[cluster_vars])\n",
    "    trans_clusters = \\\n",
    "        pd.DataFrame(kmeans.predict(X_scaled[cluster_vars]),\n",
    "                              columns=[cluster_col_name],\n",
    "                              index=X_scaled.index)\n",
    "    \n",
    "    return trans_clusters\n",
    "\n",
    "validate_clusters = kmeans_transform(X_validate_scaled, kmeans, cluster_vars=area_vars, cluster_col_name='bedbathsqft')"
   ]
  },
  {
   "cell_type": "code",
   "execution_count": 27,
   "metadata": {},
   "outputs": [],
   "source": [
    "def kmeans_transform(X_scaled, kmeans, cluster_vars, cluster_col_name):\n",
    "    kmeans.transform(X_scaled[cluster_vars])\n",
    "    trans_clusters = \\\n",
    "        pd.DataFrame(kmeans.predict(X_scaled[cluster_vars]),\n",
    "                              columns=[cluster_col_name],\n",
    "                              index=X_scaled.index)\n",
    "    \n",
    "    return trans_clusters\n",
    "\n",
    "test_clusters = kmeans_transform(X_test_scaled, kmeans, cluster_vars=area_vars, cluster_col_name='bedbathsqft')"
   ]
  },
  {
   "cell_type": "code",
   "execution_count": 28,
   "metadata": {},
   "outputs": [],
   "source": [
    "centroid_col_names = ['centroid_' + i for i in area_vars]\n",
    "centroid_col_names\n",
    "\n",
    "centroids = pd.DataFrame(kmeans.cluster_centers_, \n",
    "             columns=centroid_col_names).reset_index().rename(columns={'index': 'bedbathsqft'})\n"
   ]
  },
  {
   "cell_type": "code",
   "execution_count": 29,
   "metadata": {},
   "outputs": [
    {
     "data": {
      "text/html": [
       "<div>\n",
       "<style scoped>\n",
       "    .dataframe tbody tr th:only-of-type {\n",
       "        vertical-align: middle;\n",
       "    }\n",
       "\n",
       "    .dataframe tbody tr th {\n",
       "        vertical-align: top;\n",
       "    }\n",
       "\n",
       "    .dataframe thead th {\n",
       "        text-align: right;\n",
       "    }\n",
       "</style>\n",
       "<table border=\"1\" class=\"dataframe\">\n",
       "  <thead>\n",
       "    <tr style=\"text-align: right;\">\n",
       "      <th></th>\n",
       "      <th>bedbathsqft</th>\n",
       "      <th>centroid_bed_bath_ratio</th>\n",
       "      <th>centroid_structure_dollar_per_sqft</th>\n",
       "      <th>centroid_taxrate</th>\n",
       "    </tr>\n",
       "  </thead>\n",
       "  <tbody>\n",
       "    <tr>\n",
       "      <th>0</th>\n",
       "      <td>0</td>\n",
       "      <td>0.125967</td>\n",
       "      <td>0.205608</td>\n",
       "      <td>0.236112</td>\n",
       "    </tr>\n",
       "    <tr>\n",
       "      <th>1</th>\n",
       "      <td>1</td>\n",
       "      <td>0.262289</td>\n",
       "      <td>0.073509</td>\n",
       "      <td>0.251920</td>\n",
       "    </tr>\n",
       "    <tr>\n",
       "      <th>2</th>\n",
       "      <td>2</td>\n",
       "      <td>0.180603</td>\n",
       "      <td>0.080928</td>\n",
       "      <td>0.247108</td>\n",
       "    </tr>\n",
       "    <tr>\n",
       "      <th>3</th>\n",
       "      <td>3</td>\n",
       "      <td>0.206399</td>\n",
       "      <td>0.046870</td>\n",
       "      <td>0.423550</td>\n",
       "    </tr>\n",
       "    <tr>\n",
       "      <th>4</th>\n",
       "      <td>4</td>\n",
       "      <td>0.108083</td>\n",
       "      <td>0.095701</td>\n",
       "      <td>0.244152</td>\n",
       "    </tr>\n",
       "    <tr>\n",
       "      <th>5</th>\n",
       "      <td>5</td>\n",
       "      <td>0.414773</td>\n",
       "      <td>0.067699</td>\n",
       "      <td>0.272152</td>\n",
       "    </tr>\n",
       "  </tbody>\n",
       "</table>\n",
       "</div>"
      ],
      "text/plain": [
       "   bedbathsqft  centroid_bed_bath_ratio  centroid_structure_dollar_per_sqft  \\\n",
       "0            0                 0.125967                            0.205608   \n",
       "1            1                 0.262289                            0.073509   \n",
       "2            2                 0.180603                            0.080928   \n",
       "3            3                 0.206399                            0.046870   \n",
       "4            4                 0.108083                            0.095701   \n",
       "5            5                 0.414773                            0.067699   \n",
       "\n",
       "   centroid_taxrate  \n",
       "0          0.236112  \n",
       "1          0.251920  \n",
       "2          0.247108  \n",
       "3          0.423550  \n",
       "4          0.244152  \n",
       "5          0.272152  "
      ]
     },
     "execution_count": 29,
     "metadata": {},
     "output_type": "execute_result"
    }
   ],
   "source": [
    "centroids"
   ]
  },
  {
   "cell_type": "code",
   "execution_count": 30,
   "metadata": {},
   "outputs": [
    {
     "ename": "ValueError",
     "evalue": "The column label 'bedbathsqft' is not unique.",
     "output_type": "error",
     "traceback": [
      "\u001b[0;31m----------------------------------------------------------------\u001b[0m",
      "\u001b[0;31mValueError\u001b[0m                     Traceback (most recent call last)",
      "\u001b[0;32m<ipython-input-30-f19fee5d9f1b>\u001b[0m in \u001b[0;36m<module>\u001b[0;34m\u001b[0m\n\u001b[1;32m      1\u001b[0m \u001b[0;31m#CC'ing clusters and centroids to DF with this function\u001b[0m\u001b[0;34m\u001b[0m\u001b[0;34m\u001b[0m\u001b[0;34m\u001b[0m\u001b[0m\n\u001b[1;32m      2\u001b[0m \u001b[0;34m\u001b[0m\u001b[0m\n\u001b[0;32m----> 3\u001b[0;31m \u001b[0mX_train\u001b[0m\u001b[0;34m,\u001b[0m \u001b[0mX_train_scaled\u001b[0m \u001b[0;34m=\u001b[0m \u001b[0mwrangle_zillow\u001b[0m\u001b[0;34m.\u001b[0m\u001b[0madd_to_train\u001b[0m\u001b[0;34m(\u001b[0m\u001b[0mtrain_clusters\u001b[0m\u001b[0;34m,\u001b[0m \u001b[0mcentroids\u001b[0m\u001b[0;34m,\u001b[0m \u001b[0mX_train\u001b[0m\u001b[0;34m,\u001b[0m \u001b[0mX_train_scaled\u001b[0m\u001b[0;34m,\u001b[0m \u001b[0mcluster_col_name\u001b[0m \u001b[0;34m=\u001b[0m \u001b[0;34m'bedbathsqft'\u001b[0m\u001b[0;34m)\u001b[0m\u001b[0;34m\u001b[0m\u001b[0;34m\u001b[0m\u001b[0m\n\u001b[0m\u001b[1;32m      4\u001b[0m \u001b[0;34m\u001b[0m\u001b[0m\n\u001b[1;32m      5\u001b[0m \u001b[0mX_validate\u001b[0m\u001b[0;34m,\u001b[0m \u001b[0mX_validate_scaled\u001b[0m \u001b[0;34m=\u001b[0m \u001b[0mwrangle_zillow\u001b[0m\u001b[0;34m.\u001b[0m\u001b[0madd_to_train\u001b[0m\u001b[0;34m(\u001b[0m\u001b[0mvalidate_clusters\u001b[0m\u001b[0;34m,\u001b[0m \u001b[0mcentroids\u001b[0m\u001b[0;34m,\u001b[0m \u001b[0mX_validate\u001b[0m\u001b[0;34m,\u001b[0m \u001b[0mX_validate_scaled\u001b[0m\u001b[0;34m,\u001b[0m \u001b[0mcluster_col_name\u001b[0m \u001b[0;34m=\u001b[0m \u001b[0;34m'bedbathsqft'\u001b[0m\u001b[0;34m)\u001b[0m\u001b[0;34m\u001b[0m\u001b[0;34m\u001b[0m\u001b[0m\n",
      "\u001b[0;32m~/codeup-data-science/zillow_clustering_project/wrangle_zillow.py\u001b[0m in \u001b[0;36madd_to_train\u001b[0;34m(train_clusters, centroids, X_train, X_train_scaled, cluster_col_name)\u001b[0m\n\u001b[1;32m    369\u001b[0m     \u001b[0;31m# join on clusterid to get centroids\u001b[0m\u001b[0;34m\u001b[0m\u001b[0;34m\u001b[0m\u001b[0;34m\u001b[0m\u001b[0m\n\u001b[1;32m    370\u001b[0m     X_train2 = X_train2.merge(centroids, how='left', \n\u001b[0;32m--> 371\u001b[0;31m                             on=cluster_col_name).\\\n\u001b[0m\u001b[1;32m    372\u001b[0m                         \u001b[0mset_index\u001b[0m\u001b[0;34m(\u001b[0m\u001b[0mX_train\u001b[0m\u001b[0;34m.\u001b[0m\u001b[0mindex\u001b[0m\u001b[0;34m)\u001b[0m\u001b[0;34m\u001b[0m\u001b[0;34m\u001b[0m\u001b[0m\n\u001b[1;32m    373\u001b[0m \u001b[0;34m\u001b[0m\u001b[0m\n",
      "\u001b[0;32m/usr/local/anaconda3/lib/python3.7/site-packages/pandas/core/frame.py\u001b[0m in \u001b[0;36mmerge\u001b[0;34m(self, right, how, on, left_on, right_on, left_index, right_index, sort, suffixes, copy, indicator, validate)\u001b[0m\n\u001b[1;32m   7295\u001b[0m             \u001b[0mcopy\u001b[0m\u001b[0;34m=\u001b[0m\u001b[0mcopy\u001b[0m\u001b[0;34m,\u001b[0m\u001b[0;34m\u001b[0m\u001b[0;34m\u001b[0m\u001b[0m\n\u001b[1;32m   7296\u001b[0m             \u001b[0mindicator\u001b[0m\u001b[0;34m=\u001b[0m\u001b[0mindicator\u001b[0m\u001b[0;34m,\u001b[0m\u001b[0;34m\u001b[0m\u001b[0;34m\u001b[0m\u001b[0m\n\u001b[0;32m-> 7297\u001b[0;31m             \u001b[0mvalidate\u001b[0m\u001b[0;34m=\u001b[0m\u001b[0mvalidate\u001b[0m\u001b[0;34m,\u001b[0m\u001b[0;34m\u001b[0m\u001b[0;34m\u001b[0m\u001b[0m\n\u001b[0m\u001b[1;32m   7298\u001b[0m         )\n\u001b[1;32m   7299\u001b[0m \u001b[0;34m\u001b[0m\u001b[0m\n",
      "\u001b[0;32m/usr/local/anaconda3/lib/python3.7/site-packages/pandas/core/reshape/merge.py\u001b[0m in \u001b[0;36mmerge\u001b[0;34m(left, right, how, on, left_on, right_on, left_index, right_index, sort, suffixes, copy, indicator, validate)\u001b[0m\n\u001b[1;32m     84\u001b[0m         \u001b[0mcopy\u001b[0m\u001b[0;34m=\u001b[0m\u001b[0mcopy\u001b[0m\u001b[0;34m,\u001b[0m\u001b[0;34m\u001b[0m\u001b[0;34m\u001b[0m\u001b[0m\n\u001b[1;32m     85\u001b[0m         \u001b[0mindicator\u001b[0m\u001b[0;34m=\u001b[0m\u001b[0mindicator\u001b[0m\u001b[0;34m,\u001b[0m\u001b[0;34m\u001b[0m\u001b[0;34m\u001b[0m\u001b[0m\n\u001b[0;32m---> 86\u001b[0;31m         \u001b[0mvalidate\u001b[0m\u001b[0;34m=\u001b[0m\u001b[0mvalidate\u001b[0m\u001b[0;34m,\u001b[0m\u001b[0;34m\u001b[0m\u001b[0;34m\u001b[0m\u001b[0m\n\u001b[0m\u001b[1;32m     87\u001b[0m     )\n\u001b[1;32m     88\u001b[0m     \u001b[0;32mreturn\u001b[0m \u001b[0mop\u001b[0m\u001b[0;34m.\u001b[0m\u001b[0mget_result\u001b[0m\u001b[0;34m(\u001b[0m\u001b[0;34m)\u001b[0m\u001b[0;34m\u001b[0m\u001b[0;34m\u001b[0m\u001b[0m\n",
      "\u001b[0;32m/usr/local/anaconda3/lib/python3.7/site-packages/pandas/core/reshape/merge.py\u001b[0m in \u001b[0;36m__init__\u001b[0;34m(self, left, right, how, on, left_on, right_on, axis, left_index, right_index, sort, suffixes, copy, indicator, validate)\u001b[0m\n\u001b[1;32m    625\u001b[0m             \u001b[0mself\u001b[0m\u001b[0;34m.\u001b[0m\u001b[0mright_join_keys\u001b[0m\u001b[0;34m,\u001b[0m\u001b[0;34m\u001b[0m\u001b[0;34m\u001b[0m\u001b[0m\n\u001b[1;32m    626\u001b[0m             \u001b[0mself\u001b[0m\u001b[0;34m.\u001b[0m\u001b[0mjoin_names\u001b[0m\u001b[0;34m,\u001b[0m\u001b[0;34m\u001b[0m\u001b[0;34m\u001b[0m\u001b[0m\n\u001b[0;32m--> 627\u001b[0;31m         ) = self._get_merge_keys()\n\u001b[0m\u001b[1;32m    628\u001b[0m \u001b[0;34m\u001b[0m\u001b[0m\n\u001b[1;32m    629\u001b[0m         \u001b[0;31m# validate the merge keys dtypes. We may need to coerce\u001b[0m\u001b[0;34m\u001b[0m\u001b[0;34m\u001b[0m\u001b[0;34m\u001b[0m\u001b[0m\n",
      "\u001b[0;32m/usr/local/anaconda3/lib/python3.7/site-packages/pandas/core/reshape/merge.py\u001b[0m in \u001b[0;36m_get_merge_keys\u001b[0;34m(self)\u001b[0m\n\u001b[1;32m    994\u001b[0m                         \u001b[0mright_keys\u001b[0m\u001b[0;34m.\u001b[0m\u001b[0mappend\u001b[0m\u001b[0;34m(\u001b[0m\u001b[0mrk\u001b[0m\u001b[0;34m)\u001b[0m\u001b[0;34m\u001b[0m\u001b[0;34m\u001b[0m\u001b[0m\n\u001b[1;32m    995\u001b[0m                     \u001b[0;32mif\u001b[0m \u001b[0mlk\u001b[0m \u001b[0;32mis\u001b[0m \u001b[0;32mnot\u001b[0m \u001b[0;32mNone\u001b[0m\u001b[0;34m:\u001b[0m\u001b[0;34m\u001b[0m\u001b[0;34m\u001b[0m\u001b[0m\n\u001b[0;32m--> 996\u001b[0;31m                         \u001b[0mleft_keys\u001b[0m\u001b[0;34m.\u001b[0m\u001b[0mappend\u001b[0m\u001b[0;34m(\u001b[0m\u001b[0mleft\u001b[0m\u001b[0;34m.\u001b[0m\u001b[0m_get_label_or_level_values\u001b[0m\u001b[0;34m(\u001b[0m\u001b[0mlk\u001b[0m\u001b[0;34m)\u001b[0m\u001b[0;34m)\u001b[0m\u001b[0;34m\u001b[0m\u001b[0;34m\u001b[0m\u001b[0m\n\u001b[0m\u001b[1;32m    997\u001b[0m                         \u001b[0mjoin_names\u001b[0m\u001b[0;34m.\u001b[0m\u001b[0mappend\u001b[0m\u001b[0;34m(\u001b[0m\u001b[0mlk\u001b[0m\u001b[0;34m)\u001b[0m\u001b[0;34m\u001b[0m\u001b[0;34m\u001b[0m\u001b[0m\n\u001b[1;32m    998\u001b[0m                     \u001b[0;32melse\u001b[0m\u001b[0;34m:\u001b[0m\u001b[0;34m\u001b[0m\u001b[0;34m\u001b[0m\u001b[0m\n",
      "\u001b[0;32m/usr/local/anaconda3/lib/python3.7/site-packages/pandas/core/generic.py\u001b[0m in \u001b[0;36m_get_label_or_level_values\u001b[0;34m(self, key, axis)\u001b[0m\n\u001b[1;32m   1708\u001b[0m             raise ValueError(\n\u001b[1;32m   1709\u001b[0m                 (\n\u001b[0;32m-> 1710\u001b[0;31m                     \u001b[0;34mf\"The {label_axis_name} label '{key}' \"\u001b[0m\u001b[0;34m\u001b[0m\u001b[0;34m\u001b[0m\u001b[0m\n\u001b[0m\u001b[1;32m   1711\u001b[0m                     \u001b[0;34mf\"is not unique.{multi_message}\"\u001b[0m\u001b[0;34m\u001b[0m\u001b[0;34m\u001b[0m\u001b[0m\n\u001b[1;32m   1712\u001b[0m                 )\n",
      "\u001b[0;31mValueError\u001b[0m: The column label 'bedbathsqft' is not unique."
     ]
    }
   ],
   "source": [
    "#CC'ing clusters and centroids to DF with this function\n",
    "\n",
    "X_train, X_train_scaled = wrangle_zillow.add_to_train(train_clusters, centroids, X_train, X_train_scaled, cluster_col_name = 'bedbathsqft')\n",
    "\n",
    "X_validate, X_validate_scaled = wrangle_zillow.add_to_train(validate_clusters, centroids, X_validate, X_validate_scaled, cluster_col_name = 'bedbathsqft')\n",
    "\n",
    "X_test, X_test_scaled = wrangle_zillow.add_to_train(test_clusters, centroids, X_test, X_test_scaled, cluster_col_name = 'bedbathsqft')"
   ]
  },
  {
   "cell_type": "code",
   "execution_count": 31,
   "metadata": {},
   "outputs": [
    {
     "data": {
      "text/plain": [
       "((37741, 21), (16175, 21), (13479, 21))"
      ]
     },
     "execution_count": 31,
     "metadata": {},
     "output_type": "execute_result"
    }
   ],
   "source": [
    "X_train_scaled.shape, X_validate_scaled.shape, X_test_scaled.shape"
   ]
  },
  {
   "cell_type": "code",
   "execution_count": null,
   "metadata": {},
   "outputs": [],
   "source": [
    "def add_to_train(cluster_col_name):\n",
    "    # concatenate cluster id\n",
    "    X_train2 = pd.concat([X_train, train_clusters], axis=1)\n",
    "\n",
    "    # join on clusterid to get centroids\n",
    "    X_train2 = X_train2.merge(centroids, how='left', \n",
    "                            on=cluster_col_name).\\\n",
    "                        set_index(X_train.index)\n",
    "    \n",
    "    # concatenate cluster id\n",
    "    X_train_scaled2 = pd.concat([X_train_scaled, train_clusters], \n",
    "                               axis=1)\n",
    "\n",
    "    # join on clusterid to get centroids\n",
    "    X_train_scaled2 = X_train_scaled2.merge(centroids, how='left', \n",
    "                                          on=cluster_col_name).\\\n",
    "                            set_index(X_train.index)\n",
    "    \n",
    "    return X_train2, X_train_scaled2"
   ]
  },
  {
   "cell_type": "code",
   "execution_count": null,
   "metadata": {},
   "outputs": [],
   "source": [
    "#X_train, X_train_scaled = add_to_train(cluster_col_name='bedbathsqft')"
   ]
  },
  {
   "cell_type": "code",
   "execution_count": 33,
   "metadata": {},
   "outputs": [
    {
     "data": {
      "image/png": "[encoded data removed]",
      "text/plain": [
       "<Figure size 432x288 with 1 Axes>"
      ]
     },
     "metadata": {
      "needs_background": "light"
     },
     "output_type": "display_data"
    }
   ],
   "source": [
    "sns.scatterplot(x='bed_bath_ratio', y='structure_dollar_per_sqft', hue='taxrate', data=X_train)\n",
    "plt.title(\"bed bath ratio and dollar per sqft\")\n",
    "plt.show()"
   ]
  },
  {
   "cell_type": "code",
   "execution_count": 34,
   "metadata": {},
   "outputs": [
    {
     "data": {
      "image/png": "[encoded data removed]",
      "text/plain": [
       "<Figure size 432x288 with 1 Axes>"
      ]
     },
     "metadata": {
      "needs_background": "light"
     },
     "output_type": "display_data"
    }
   ],
   "source": [
    "sns.scatterplot(x='bed_bath_ratio', y='structure_dollar_per_sqft', hue='bedbathsqft', data=X_train)\n",
    "plt.title(\"bed bath ratio and dollar per sqft\")\n",
    "plt.show()"
   ]
  },
  {
   "cell_type": "code",
   "execution_count": 35,
   "metadata": {},
   "outputs": [
    {
     "data": {
      "image/png": "[encoded data removed]",
      "text/plain": [
       "<Figure size 432x288 with 1 Axes>"
      ]
     },
     "metadata": {
      "needs_background": "light"
     },
     "output_type": "display_data"
    }
   ],
   "source": [
    "plt.scatter(X_train.bed_bath_ratio, X_train.structure_dollar_per_sqft, c=X_train.bedbathsqft)\n",
    "plt.show()"
   ]
  },
  {
   "cell_type": "code",
   "execution_count": 37,
   "metadata": {},
   "outputs": [
    {
     "data": {
      "image/png": "[encoded data removed]",
      "text/plain": [
       "<Figure size 432x288 with 1 Axes>"
      ]
     },
     "metadata": {
      "needs_background": "light"
     },
     "output_type": "display_data"
    }
   ],
   "source": [
    "plt.scatter(X_train.bed_bath_ratio, y_train.logerror, c=X_train.bedbathsqft)\n",
    "plt.show()"
   ]
  },
  {
   "cell_type": "code",
   "execution_count": 38,
   "metadata": {},
   "outputs": [
    {
     "data": {
      "image/png": "[encoded data removed]",
      "text/plain": [
       "<Figure size 432x288 with 1 Axes>"
      ]
     },
     "metadata": {
      "needs_background": "light"
     },
     "output_type": "display_data"
    }
   ],
   "source": [
    "plt.scatter(X_train.structure_dollar_per_sqft, y_train.logerror, c=X_train.bedbathsqft)\n",
    "plt.show()"
   ]
  },
  {
   "cell_type": "code",
   "execution_count": null,
   "metadata": {},
   "outputs": [],
   "source": []
  }
 ],
 "metadata": {
  "kernelspec": {
   "display_name": "Python 3",
   "language": "python",
   "name": "python3"
  },
  "language_info": {
   "codemirror_mode": {
    "name": "ipython",
    "version": 3
   },
   "file_extension": ".py",
   "mimetype": "text/x-python",
   "name": "python",
   "nbconvert_exporter": "python",
   "pygments_lexer": "ipython3",
   "version": "3.7.6"
  }
 },
 "nbformat": 4,
 "nbformat_minor": 4
}
